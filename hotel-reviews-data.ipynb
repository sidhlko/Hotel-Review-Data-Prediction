{
 "cells": [
  {
   "cell_type": "markdown",
   "metadata": {
    "_uuid": "ceded3df052b195a9a61cf6703116249067c9c3d"
   },
   "source": [
    "**Data Wrangling (Cleaning & manipulation of raw dataset)**"
   ]
  },
  {
   "cell_type": "code",
   "execution_count": 1,
   "metadata": {
    "_cell_guid": "0ffa6dd3-d1c0-42f6-9dba-cbc7fb8ede5e",
    "_uuid": "8e00ccfce504fe9d35bf1ba1bce54450fd14aa61"
   },
   "outputs": [
    {
     "data": {
      "text/html": [
       "        <script type=\"text/javascript\">\n",
       "        window.PlotlyConfig = {MathJaxConfig: 'local'};\n",
       "        if (window.MathJax) {MathJax.Hub.Config({SVG: {font: \"STIX-Web\"}});}\n",
       "        if (typeof require !== 'undefined') {\n",
       "        require.undef(\"plotly\");\n",
       "        requirejs.config({\n",
       "            paths: {\n",
       "                'plotly': ['https://cdn.plot.ly/plotly-latest.min']\n",
       "            }\n",
       "        });\n",
       "        require(['plotly'], function(Plotly) {\n",
       "            window._Plotly = Plotly;\n",
       "        });\n",
       "        }\n",
       "        </script>\n",
       "        "
      ]
     },
     "metadata": {},
     "output_type": "display_data"
    }
   ],
   "source": [
    "# imports pandas, numpy and matplotlib modules\n",
    "import pandas as pd\n",
    "import numpy as np\n",
    "import matplotlib.pyplot as plt\n",
    "%matplotlib inline\n",
    "\n",
    "# import plotly modules\n",
    "import plotly.offline as py\n",
    "py.init_notebook_mode(connected=True)\n",
    "import plotly.graph_objects as go\n",
    "\n",
    "import plotly.tools as tls\n",
    "\n",
    "import warnings\n",
    "warnings.filterwarnings('ignore')"
   ]
  },
  {
   "cell_type": "code",
   "execution_count": 2,
   "metadata": {
    "_uuid": "6f803191a83ac0c9ba17f6249eb290a2e078a095"
   },
   "outputs": [
    {
     "data": {
      "text/html": [
       "<div>\n",
       "<style scoped>\n",
       "    .dataframe tbody tr th:only-of-type {\n",
       "        vertical-align: middle;\n",
       "    }\n",
       "\n",
       "    .dataframe tbody tr th {\n",
       "        vertical-align: top;\n",
       "    }\n",
       "\n",
       "    .dataframe thead th {\n",
       "        text-align: right;\n",
       "    }\n",
       "</style>\n",
       "<table border=\"1\" class=\"dataframe\">\n",
       "  <thead>\n",
       "    <tr style=\"text-align: right;\">\n",
       "      <th></th>\n",
       "      <th>address</th>\n",
       "      <th>categories</th>\n",
       "      <th>city</th>\n",
       "      <th>country</th>\n",
       "      <th>latitude</th>\n",
       "      <th>longitude</th>\n",
       "      <th>name</th>\n",
       "      <th>postalCode</th>\n",
       "      <th>province</th>\n",
       "      <th>reviews.date</th>\n",
       "      <th>reviews.dateAdded</th>\n",
       "      <th>reviews.doRecommend</th>\n",
       "      <th>reviews.id</th>\n",
       "      <th>reviews.rating</th>\n",
       "      <th>reviews.text</th>\n",
       "      <th>reviews.title</th>\n",
       "      <th>reviews.userCity</th>\n",
       "      <th>reviews.username</th>\n",
       "      <th>reviews.userProvince</th>\n",
       "    </tr>\n",
       "  </thead>\n",
       "  <tbody>\n",
       "    <tr>\n",
       "      <th>0</th>\n",
       "      <td>Riviera San Nicol 11/a</td>\n",
       "      <td>Hotels</td>\n",
       "      <td>Mableton</td>\n",
       "      <td>US</td>\n",
       "      <td>45.421611</td>\n",
       "      <td>12.376187</td>\n",
       "      <td>Hotel Russo Palace</td>\n",
       "      <td>30126</td>\n",
       "      <td>GA</td>\n",
       "      <td>2013-09-22T00:00:00Z</td>\n",
       "      <td>2016-10-24T00:00:25Z</td>\n",
       "      <td>NaN</td>\n",
       "      <td>NaN</td>\n",
       "      <td>4.0</td>\n",
       "      <td>Pleasant 10 min walk along the sea front to th...</td>\n",
       "      <td>Good location away from the crouds</td>\n",
       "      <td>NaN</td>\n",
       "      <td>Russ (kent)</td>\n",
       "      <td>NaN</td>\n",
       "    </tr>\n",
       "    <tr>\n",
       "      <th>1</th>\n",
       "      <td>Riviera San Nicol 11/a</td>\n",
       "      <td>Hotels</td>\n",
       "      <td>Mableton</td>\n",
       "      <td>US</td>\n",
       "      <td>45.421611</td>\n",
       "      <td>12.376187</td>\n",
       "      <td>Hotel Russo Palace</td>\n",
       "      <td>30126</td>\n",
       "      <td>GA</td>\n",
       "      <td>2015-04-03T00:00:00Z</td>\n",
       "      <td>2016-10-24T00:00:25Z</td>\n",
       "      <td>NaN</td>\n",
       "      <td>NaN</td>\n",
       "      <td>5.0</td>\n",
       "      <td>Really lovely hotel. Stayed on the very top fl...</td>\n",
       "      <td>Great hotel with Jacuzzi bath!</td>\n",
       "      <td>NaN</td>\n",
       "      <td>A Traveler</td>\n",
       "      <td>NaN</td>\n",
       "    </tr>\n",
       "    <tr>\n",
       "      <th>2</th>\n",
       "      <td>Riviera San Nicol 11/a</td>\n",
       "      <td>Hotels</td>\n",
       "      <td>Mableton</td>\n",
       "      <td>US</td>\n",
       "      <td>45.421611</td>\n",
       "      <td>12.376187</td>\n",
       "      <td>Hotel Russo Palace</td>\n",
       "      <td>30126</td>\n",
       "      <td>GA</td>\n",
       "      <td>2014-05-13T00:00:00Z</td>\n",
       "      <td>2016-10-24T00:00:25Z</td>\n",
       "      <td>NaN</td>\n",
       "      <td>NaN</td>\n",
       "      <td>5.0</td>\n",
       "      <td>Ett mycket bra hotell. Det som drog ner betyge...</td>\n",
       "      <td>Lugnt l��ge</td>\n",
       "      <td>NaN</td>\n",
       "      <td>Maud</td>\n",
       "      <td>NaN</td>\n",
       "    </tr>\n",
       "    <tr>\n",
       "      <th>3</th>\n",
       "      <td>Riviera San Nicol 11/a</td>\n",
       "      <td>Hotels</td>\n",
       "      <td>Mableton</td>\n",
       "      <td>US</td>\n",
       "      <td>45.421611</td>\n",
       "      <td>12.376187</td>\n",
       "      <td>Hotel Russo Palace</td>\n",
       "      <td>30126</td>\n",
       "      <td>GA</td>\n",
       "      <td>2013-10-27T00:00:00Z</td>\n",
       "      <td>2016-10-24T00:00:25Z</td>\n",
       "      <td>NaN</td>\n",
       "      <td>NaN</td>\n",
       "      <td>5.0</td>\n",
       "      <td>We stayed here for four nights in October. The...</td>\n",
       "      <td>Good location on the Lido.</td>\n",
       "      <td>NaN</td>\n",
       "      <td>Julie</td>\n",
       "      <td>NaN</td>\n",
       "    </tr>\n",
       "    <tr>\n",
       "      <th>4</th>\n",
       "      <td>Riviera San Nicol 11/a</td>\n",
       "      <td>Hotels</td>\n",
       "      <td>Mableton</td>\n",
       "      <td>US</td>\n",
       "      <td>45.421611</td>\n",
       "      <td>12.376187</td>\n",
       "      <td>Hotel Russo Palace</td>\n",
       "      <td>30126</td>\n",
       "      <td>GA</td>\n",
       "      <td>2015-03-05T00:00:00Z</td>\n",
       "      <td>2016-10-24T00:00:25Z</td>\n",
       "      <td>NaN</td>\n",
       "      <td>NaN</td>\n",
       "      <td>5.0</td>\n",
       "      <td>We stayed here for four nights in October. The...</td>\n",
       "      <td>������ ���������������</td>\n",
       "      <td>NaN</td>\n",
       "      <td>sungchul</td>\n",
       "      <td>NaN</td>\n",
       "    </tr>\n",
       "  </tbody>\n",
       "</table>\n",
       "</div>"
      ],
      "text/plain": [
       "                  address categories      city country   latitude  longitude  \\\n",
       "0  Riviera San Nicol 11/a     Hotels  Mableton      US  45.421611  12.376187   \n",
       "1  Riviera San Nicol 11/a     Hotels  Mableton      US  45.421611  12.376187   \n",
       "2  Riviera San Nicol 11/a     Hotels  Mableton      US  45.421611  12.376187   \n",
       "3  Riviera San Nicol 11/a     Hotels  Mableton      US  45.421611  12.376187   \n",
       "4  Riviera San Nicol 11/a     Hotels  Mableton      US  45.421611  12.376187   \n",
       "\n",
       "                 name postalCode province          reviews.date  \\\n",
       "0  Hotel Russo Palace      30126       GA  2013-09-22T00:00:00Z   \n",
       "1  Hotel Russo Palace      30126       GA  2015-04-03T00:00:00Z   \n",
       "2  Hotel Russo Palace      30126       GA  2014-05-13T00:00:00Z   \n",
       "3  Hotel Russo Palace      30126       GA  2013-10-27T00:00:00Z   \n",
       "4  Hotel Russo Palace      30126       GA  2015-03-05T00:00:00Z   \n",
       "\n",
       "      reviews.dateAdded  reviews.doRecommend  reviews.id  reviews.rating  \\\n",
       "0  2016-10-24T00:00:25Z                  NaN         NaN             4.0   \n",
       "1  2016-10-24T00:00:25Z                  NaN         NaN             5.0   \n",
       "2  2016-10-24T00:00:25Z                  NaN         NaN             5.0   \n",
       "3  2016-10-24T00:00:25Z                  NaN         NaN             5.0   \n",
       "4  2016-10-24T00:00:25Z                  NaN         NaN             5.0   \n",
       "\n",
       "                                        reviews.text  \\\n",
       "0  Pleasant 10 min walk along the sea front to th...   \n",
       "1  Really lovely hotel. Stayed on the very top fl...   \n",
       "2  Ett mycket bra hotell. Det som drog ner betyge...   \n",
       "3  We stayed here for four nights in October. The...   \n",
       "4  We stayed here for four nights in October. The...   \n",
       "\n",
       "                        reviews.title reviews.userCity reviews.username  \\\n",
       "0  Good location away from the crouds              NaN      Russ (kent)   \n",
       "1      Great hotel with Jacuzzi bath!              NaN       A Traveler   \n",
       "2                         Lugnt l��ge              NaN             Maud   \n",
       "3          Good location on the Lido.              NaN            Julie   \n",
       "4              ������ ���������������              NaN         sungchul   \n",
       "\n",
       "  reviews.userProvince  \n",
       "0                  NaN  \n",
       "1                  NaN  \n",
       "2                  NaN  \n",
       "3                  NaN  \n",
       "4                  NaN  "
      ]
     },
     "execution_count": 2,
     "metadata": {},
     "output_type": "execute_result"
    }
   ],
   "source": [
    "## load csv data\n",
    "import pandas as pd\n",
    "df = pd.read_csv(\"7282_1.csv\",sep = \",\")\n",
    "df.head()\n"
   ]
  },
  {
   "cell_type": "code",
   "execution_count": 3,
   "metadata": {
    "_uuid": "7238d973cad62b2b1e7c3cef2104c3cf224d6686"
   },
   "outputs": [
    {
     "data": {
      "text/html": [
       "<div>\n",
       "<style scoped>\n",
       "    .dataframe tbody tr th:only-of-type {\n",
       "        vertical-align: middle;\n",
       "    }\n",
       "\n",
       "    .dataframe tbody tr th {\n",
       "        vertical-align: top;\n",
       "    }\n",
       "\n",
       "    .dataframe thead th {\n",
       "        text-align: right;\n",
       "    }\n",
       "</style>\n",
       "<table border=\"1\" class=\"dataframe\">\n",
       "  <thead>\n",
       "    <tr style=\"text-align: right;\">\n",
       "      <th></th>\n",
       "      <th>address</th>\n",
       "      <th>categories</th>\n",
       "      <th>city</th>\n",
       "      <th>country</th>\n",
       "      <th>latitude</th>\n",
       "      <th>longitude</th>\n",
       "      <th>name</th>\n",
       "      <th>postalCode</th>\n",
       "      <th>province</th>\n",
       "      <th>date</th>\n",
       "      <th>reviews.dateAdded</th>\n",
       "      <th>reviews.doRecommend</th>\n",
       "      <th>reviews.id</th>\n",
       "      <th>rating</th>\n",
       "      <th>text</th>\n",
       "      <th>title</th>\n",
       "      <th>reviews.userCity</th>\n",
       "      <th>reviews.username</th>\n",
       "      <th>reviews.userProvince</th>\n",
       "    </tr>\n",
       "  </thead>\n",
       "  <tbody>\n",
       "    <tr>\n",
       "      <th>0</th>\n",
       "      <td>Riviera San Nicol 11/a</td>\n",
       "      <td>Hotels</td>\n",
       "      <td>Mableton</td>\n",
       "      <td>US</td>\n",
       "      <td>45.421611</td>\n",
       "      <td>12.376187</td>\n",
       "      <td>Hotel Russo Palace</td>\n",
       "      <td>30126</td>\n",
       "      <td>GA</td>\n",
       "      <td>2013-09-22T00:00:00Z</td>\n",
       "      <td>2016-10-24T00:00:25Z</td>\n",
       "      <td>NaN</td>\n",
       "      <td>NaN</td>\n",
       "      <td>4.0</td>\n",
       "      <td>Pleasant 10 min walk along the sea front to th...</td>\n",
       "      <td>Good location away from the crouds</td>\n",
       "      <td>NaN</td>\n",
       "      <td>Russ (kent)</td>\n",
       "      <td>NaN</td>\n",
       "    </tr>\n",
       "    <tr>\n",
       "      <th>1</th>\n",
       "      <td>Riviera San Nicol 11/a</td>\n",
       "      <td>Hotels</td>\n",
       "      <td>Mableton</td>\n",
       "      <td>US</td>\n",
       "      <td>45.421611</td>\n",
       "      <td>12.376187</td>\n",
       "      <td>Hotel Russo Palace</td>\n",
       "      <td>30126</td>\n",
       "      <td>GA</td>\n",
       "      <td>2015-04-03T00:00:00Z</td>\n",
       "      <td>2016-10-24T00:00:25Z</td>\n",
       "      <td>NaN</td>\n",
       "      <td>NaN</td>\n",
       "      <td>5.0</td>\n",
       "      <td>Really lovely hotel. Stayed on the very top fl...</td>\n",
       "      <td>Great hotel with Jacuzzi bath!</td>\n",
       "      <td>NaN</td>\n",
       "      <td>A Traveler</td>\n",
       "      <td>NaN</td>\n",
       "    </tr>\n",
       "    <tr>\n",
       "      <th>2</th>\n",
       "      <td>Riviera San Nicol 11/a</td>\n",
       "      <td>Hotels</td>\n",
       "      <td>Mableton</td>\n",
       "      <td>US</td>\n",
       "      <td>45.421611</td>\n",
       "      <td>12.376187</td>\n",
       "      <td>Hotel Russo Palace</td>\n",
       "      <td>30126</td>\n",
       "      <td>GA</td>\n",
       "      <td>2014-05-13T00:00:00Z</td>\n",
       "      <td>2016-10-24T00:00:25Z</td>\n",
       "      <td>NaN</td>\n",
       "      <td>NaN</td>\n",
       "      <td>5.0</td>\n",
       "      <td>Ett mycket bra hotell. Det som drog ner betyge...</td>\n",
       "      <td>Lugnt l��ge</td>\n",
       "      <td>NaN</td>\n",
       "      <td>Maud</td>\n",
       "      <td>NaN</td>\n",
       "    </tr>\n",
       "    <tr>\n",
       "      <th>3</th>\n",
       "      <td>Riviera San Nicol 11/a</td>\n",
       "      <td>Hotels</td>\n",
       "      <td>Mableton</td>\n",
       "      <td>US</td>\n",
       "      <td>45.421611</td>\n",
       "      <td>12.376187</td>\n",
       "      <td>Hotel Russo Palace</td>\n",
       "      <td>30126</td>\n",
       "      <td>GA</td>\n",
       "      <td>2013-10-27T00:00:00Z</td>\n",
       "      <td>2016-10-24T00:00:25Z</td>\n",
       "      <td>NaN</td>\n",
       "      <td>NaN</td>\n",
       "      <td>5.0</td>\n",
       "      <td>We stayed here for four nights in October. The...</td>\n",
       "      <td>Good location on the Lido.</td>\n",
       "      <td>NaN</td>\n",
       "      <td>Julie</td>\n",
       "      <td>NaN</td>\n",
       "    </tr>\n",
       "    <tr>\n",
       "      <th>4</th>\n",
       "      <td>Riviera San Nicol 11/a</td>\n",
       "      <td>Hotels</td>\n",
       "      <td>Mableton</td>\n",
       "      <td>US</td>\n",
       "      <td>45.421611</td>\n",
       "      <td>12.376187</td>\n",
       "      <td>Hotel Russo Palace</td>\n",
       "      <td>30126</td>\n",
       "      <td>GA</td>\n",
       "      <td>2015-03-05T00:00:00Z</td>\n",
       "      <td>2016-10-24T00:00:25Z</td>\n",
       "      <td>NaN</td>\n",
       "      <td>NaN</td>\n",
       "      <td>5.0</td>\n",
       "      <td>We stayed here for four nights in October. The...</td>\n",
       "      <td>������ ���������������</td>\n",
       "      <td>NaN</td>\n",
       "      <td>sungchul</td>\n",
       "      <td>NaN</td>\n",
       "    </tr>\n",
       "  </tbody>\n",
       "</table>\n",
       "</div>"
      ],
      "text/plain": [
       "                  address categories      city country   latitude  longitude  \\\n",
       "0  Riviera San Nicol 11/a     Hotels  Mableton      US  45.421611  12.376187   \n",
       "1  Riviera San Nicol 11/a     Hotels  Mableton      US  45.421611  12.376187   \n",
       "2  Riviera San Nicol 11/a     Hotels  Mableton      US  45.421611  12.376187   \n",
       "3  Riviera San Nicol 11/a     Hotels  Mableton      US  45.421611  12.376187   \n",
       "4  Riviera San Nicol 11/a     Hotels  Mableton      US  45.421611  12.376187   \n",
       "\n",
       "                 name postalCode province                  date  \\\n",
       "0  Hotel Russo Palace      30126       GA  2013-09-22T00:00:00Z   \n",
       "1  Hotel Russo Palace      30126       GA  2015-04-03T00:00:00Z   \n",
       "2  Hotel Russo Palace      30126       GA  2014-05-13T00:00:00Z   \n",
       "3  Hotel Russo Palace      30126       GA  2013-10-27T00:00:00Z   \n",
       "4  Hotel Russo Palace      30126       GA  2015-03-05T00:00:00Z   \n",
       "\n",
       "      reviews.dateAdded  reviews.doRecommend  reviews.id  rating  \\\n",
       "0  2016-10-24T00:00:25Z                  NaN         NaN     4.0   \n",
       "1  2016-10-24T00:00:25Z                  NaN         NaN     5.0   \n",
       "2  2016-10-24T00:00:25Z                  NaN         NaN     5.0   \n",
       "3  2016-10-24T00:00:25Z                  NaN         NaN     5.0   \n",
       "4  2016-10-24T00:00:25Z                  NaN         NaN     5.0   \n",
       "\n",
       "                                                text  \\\n",
       "0  Pleasant 10 min walk along the sea front to th...   \n",
       "1  Really lovely hotel. Stayed on the very top fl...   \n",
       "2  Ett mycket bra hotell. Det som drog ner betyge...   \n",
       "3  We stayed here for four nights in October. The...   \n",
       "4  We stayed here for four nights in October. The...   \n",
       "\n",
       "                                title reviews.userCity reviews.username  \\\n",
       "0  Good location away from the crouds              NaN      Russ (kent)   \n",
       "1      Great hotel with Jacuzzi bath!              NaN       A Traveler   \n",
       "2                         Lugnt l��ge              NaN             Maud   \n",
       "3          Good location on the Lido.              NaN            Julie   \n",
       "4              ������ ���������������              NaN         sungchul   \n",
       "\n",
       "  reviews.userProvince  \n",
       "0                  NaN  \n",
       "1                  NaN  \n",
       "2                  NaN  \n",
       "3                  NaN  \n",
       "4                  NaN  "
      ]
     },
     "execution_count": 3,
     "metadata": {},
     "output_type": "execute_result"
    }
   ],
   "source": [
    "## rename column names\n",
    "old_names = ['reviews.date', 'reviews.rating', 'reviews.title', 'reviews.text'] \n",
    "new_names = ['date', 'rating', 'title', 'text']\n",
    "df.rename(columns=dict(zip(old_names, new_names)), inplace=True)\n",
    "df.head()"
   ]
  },
  {
   "cell_type": "code",
   "execution_count": 4,
   "metadata": {
    "_uuid": "4a7ffe6c7e351561601645a1c0a8e9c70aeca27c"
   },
   "outputs": [],
   "source": [
    "## subset multiple columns of our dataframe\n",
    "df = df[['latitude', 'longitude', 'name', 'address', 'postalCode', 'categories', 'city', 'country', 'date', 'rating', 'title', 'text',]] "
   ]
  },
  {
   "cell_type": "code",
   "execution_count": 5,
   "metadata": {
    "_uuid": "ce9015538bcfa89c3d51a85d088cbd91dc825aae"
   },
   "outputs": [],
   "source": [
    "## drop rows with NAs'\n",
    "df = df[pd.notnull(df['name'])]\n",
    "df = df[pd.notnull(df['latitude'])]\n",
    "df = df[pd.notnull(df['longitude'])]\n",
    "df = df[pd.notnull(df['rating'])]\n",
    "df = df[pd.notnull(df['date'])]"
   ]
  },
  {
   "cell_type": "markdown",
   "metadata": {
    "_uuid": "a54bb8dcb8d34101c05dceae48dbffe7d727823b"
   },
   "source": [
    "**Data Exploration (Answer basic questions with the dataset)**"
   ]
  },
  {
   "cell_type": "code",
   "execution_count": 6,
   "metadata": {
    "_uuid": "6caa2e670df94920d2e64de8cb29ccace8c0b099"
   },
   "outputs": [
    {
     "name": "stdout",
     "output_type": "stream",
     "text": [
      "Answer: The Alexandrian, Autograph Collection\n"
     ]
    }
   ],
   "source": [
    "# Q1. Which hotel has the highest number of reviews.\n",
    "q1 = df['name'].value_counts().reset_index().iloc[0]['index']\n",
    "print(\"Answer: \" + q1)"
   ]
  },
  {
   "cell_type": "code",
   "execution_count": 7,
   "metadata": {
    "_uuid": "36855eecd4a659a3036abdeb076347e109a45735"
   },
   "outputs": [
    {
     "name": "stdout",
     "output_type": "stream",
     "text": [
      "Answer: Pelican Shores Inn\n"
     ]
    }
   ],
   "source": [
    "# Q2. Which hotel has the highest average rating of reviews.\n",
    "q2 = df.groupby('name')['rating'].mean().reset_index().sort_values(by='rating', ascending=False).iloc[0]['name']\n",
    "print(\"Answer: \" + q2)"
   ]
  },
  {
   "cell_type": "code",
   "execution_count": 8,
   "metadata": {
    "_uuid": "4a63b6852bd7c9f3ccfaa133623160b3500274e5"
   },
   "outputs": [
    {
     "data": {
      "application/vnd.plotly.v1+json": {
       "config": {
        "linkText": "Export to plot.ly",
        "plotlyServerURL": "https://plot.ly",
        "showLink": false
       },
       "data": [
        {
         "marker": {
          "color": "rgb(158,202,225)",
          "line": {
           "color": "rgb(8,48,107)",
           "width": 1.5
          }
         },
         "opacity": 0.6,
         "type": "bar",
         "x": [
          "Pelican Shores Inn",
          "Hyatt Regency Kathmandu",
          "Candlewood Suites Eugene Springfield",
          "Hampton Inn Virginia Beach Oceanfront North",
          "Holiday Inn Express Hotel and Suites Va Beach Oceanfront",
          "Scenic View Motel",
          "Royal Inn Motel",
          "Desert Motel Restaurant",
          "Arrowhead Motel and Rv Park",
          "Hampton Inn"
         ],
         "y": [
          8.368932038834954,
          8.354385964912282,
          8.241666666666665,
          5.419601328903652,
          5.284716157205242,
          5,
          5,
          5,
          5,
          5
         ]
        }
       ],
       "layout": {
        "template": {
         "data": {
          "bar": [
           {
            "error_x": {
             "color": "#2a3f5f"
            },
            "error_y": {
             "color": "#2a3f5f"
            },
            "marker": {
             "line": {
              "color": "#E5ECF6",
              "width": 0.5
             }
            },
            "type": "bar"
           }
          ],
          "barpolar": [
           {
            "marker": {
             "line": {
              "color": "#E5ECF6",
              "width": 0.5
             }
            },
            "type": "barpolar"
           }
          ],
          "carpet": [
           {
            "aaxis": {
             "endlinecolor": "#2a3f5f",
             "gridcolor": "white",
             "linecolor": "white",
             "minorgridcolor": "white",
             "startlinecolor": "#2a3f5f"
            },
            "baxis": {
             "endlinecolor": "#2a3f5f",
             "gridcolor": "white",
             "linecolor": "white",
             "minorgridcolor": "white",
             "startlinecolor": "#2a3f5f"
            },
            "type": "carpet"
           }
          ],
          "choropleth": [
           {
            "colorbar": {
             "outlinewidth": 0,
             "ticks": ""
            },
            "type": "choropleth"
           }
          ],
          "contour": [
           {
            "colorbar": {
             "outlinewidth": 0,
             "ticks": ""
            },
            "colorscale": [
             [
              0,
              "#0d0887"
             ],
             [
              0.1111111111111111,
              "#46039f"
             ],
             [
              0.2222222222222222,
              "#7201a8"
             ],
             [
              0.3333333333333333,
              "#9c179e"
             ],
             [
              0.4444444444444444,
              "#bd3786"
             ],
             [
              0.5555555555555556,
              "#d8576b"
             ],
             [
              0.6666666666666666,
              "#ed7953"
             ],
             [
              0.7777777777777778,
              "#fb9f3a"
             ],
             [
              0.8888888888888888,
              "#fdca26"
             ],
             [
              1,
              "#f0f921"
             ]
            ],
            "type": "contour"
           }
          ],
          "contourcarpet": [
           {
            "colorbar": {
             "outlinewidth": 0,
             "ticks": ""
            },
            "type": "contourcarpet"
           }
          ],
          "heatmap": [
           {
            "colorbar": {
             "outlinewidth": 0,
             "ticks": ""
            },
            "colorscale": [
             [
              0,
              "#0d0887"
             ],
             [
              0.1111111111111111,
              "#46039f"
             ],
             [
              0.2222222222222222,
              "#7201a8"
             ],
             [
              0.3333333333333333,
              "#9c179e"
             ],
             [
              0.4444444444444444,
              "#bd3786"
             ],
             [
              0.5555555555555556,
              "#d8576b"
             ],
             [
              0.6666666666666666,
              "#ed7953"
             ],
             [
              0.7777777777777778,
              "#fb9f3a"
             ],
             [
              0.8888888888888888,
              "#fdca26"
             ],
             [
              1,
              "#f0f921"
             ]
            ],
            "type": "heatmap"
           }
          ],
          "heatmapgl": [
           {
            "colorbar": {
             "outlinewidth": 0,
             "ticks": ""
            },
            "colorscale": [
             [
              0,
              "#0d0887"
             ],
             [
              0.1111111111111111,
              "#46039f"
             ],
             [
              0.2222222222222222,
              "#7201a8"
             ],
             [
              0.3333333333333333,
              "#9c179e"
             ],
             [
              0.4444444444444444,
              "#bd3786"
             ],
             [
              0.5555555555555556,
              "#d8576b"
             ],
             [
              0.6666666666666666,
              "#ed7953"
             ],
             [
              0.7777777777777778,
              "#fb9f3a"
             ],
             [
              0.8888888888888888,
              "#fdca26"
             ],
             [
              1,
              "#f0f921"
             ]
            ],
            "type": "heatmapgl"
           }
          ],
          "histogram": [
           {
            "marker": {
             "colorbar": {
              "outlinewidth": 0,
              "ticks": ""
             }
            },
            "type": "histogram"
           }
          ],
          "histogram2d": [
           {
            "colorbar": {
             "outlinewidth": 0,
             "ticks": ""
            },
            "colorscale": [
             [
              0,
              "#0d0887"
             ],
             [
              0.1111111111111111,
              "#46039f"
             ],
             [
              0.2222222222222222,
              "#7201a8"
             ],
             [
              0.3333333333333333,
              "#9c179e"
             ],
             [
              0.4444444444444444,
              "#bd3786"
             ],
             [
              0.5555555555555556,
              "#d8576b"
             ],
             [
              0.6666666666666666,
              "#ed7953"
             ],
             [
              0.7777777777777778,
              "#fb9f3a"
             ],
             [
              0.8888888888888888,
              "#fdca26"
             ],
             [
              1,
              "#f0f921"
             ]
            ],
            "type": "histogram2d"
           }
          ],
          "histogram2dcontour": [
           {
            "colorbar": {
             "outlinewidth": 0,
             "ticks": ""
            },
            "colorscale": [
             [
              0,
              "#0d0887"
             ],
             [
              0.1111111111111111,
              "#46039f"
             ],
             [
              0.2222222222222222,
              "#7201a8"
             ],
             [
              0.3333333333333333,
              "#9c179e"
             ],
             [
              0.4444444444444444,
              "#bd3786"
             ],
             [
              0.5555555555555556,
              "#d8576b"
             ],
             [
              0.6666666666666666,
              "#ed7953"
             ],
             [
              0.7777777777777778,
              "#fb9f3a"
             ],
             [
              0.8888888888888888,
              "#fdca26"
             ],
             [
              1,
              "#f0f921"
             ]
            ],
            "type": "histogram2dcontour"
           }
          ],
          "mesh3d": [
           {
            "colorbar": {
             "outlinewidth": 0,
             "ticks": ""
            },
            "type": "mesh3d"
           }
          ],
          "parcoords": [
           {
            "line": {
             "colorbar": {
              "outlinewidth": 0,
              "ticks": ""
             }
            },
            "type": "parcoords"
           }
          ],
          "pie": [
           {
            "automargin": true,
            "type": "pie"
           }
          ],
          "scatter": [
           {
            "marker": {
             "colorbar": {
              "outlinewidth": 0,
              "ticks": ""
             }
            },
            "type": "scatter"
           }
          ],
          "scatter3d": [
           {
            "line": {
             "colorbar": {
              "outlinewidth": 0,
              "ticks": ""
             }
            },
            "marker": {
             "colorbar": {
              "outlinewidth": 0,
              "ticks": ""
             }
            },
            "type": "scatter3d"
           }
          ],
          "scattercarpet": [
           {
            "marker": {
             "colorbar": {
              "outlinewidth": 0,
              "ticks": ""
             }
            },
            "type": "scattercarpet"
           }
          ],
          "scattergeo": [
           {
            "marker": {
             "colorbar": {
              "outlinewidth": 0,
              "ticks": ""
             }
            },
            "type": "scattergeo"
           }
          ],
          "scattergl": [
           {
            "marker": {
             "colorbar": {
              "outlinewidth": 0,
              "ticks": ""
             }
            },
            "type": "scattergl"
           }
          ],
          "scattermapbox": [
           {
            "marker": {
             "colorbar": {
              "outlinewidth": 0,
              "ticks": ""
             }
            },
            "type": "scattermapbox"
           }
          ],
          "scatterpolar": [
           {
            "marker": {
             "colorbar": {
              "outlinewidth": 0,
              "ticks": ""
             }
            },
            "type": "scatterpolar"
           }
          ],
          "scatterpolargl": [
           {
            "marker": {
             "colorbar": {
              "outlinewidth": 0,
              "ticks": ""
             }
            },
            "type": "scatterpolargl"
           }
          ],
          "scatterternary": [
           {
            "marker": {
             "colorbar": {
              "outlinewidth": 0,
              "ticks": ""
             }
            },
            "type": "scatterternary"
           }
          ],
          "surface": [
           {
            "colorbar": {
             "outlinewidth": 0,
             "ticks": ""
            },
            "colorscale": [
             [
              0,
              "#0d0887"
             ],
             [
              0.1111111111111111,
              "#46039f"
             ],
             [
              0.2222222222222222,
              "#7201a8"
             ],
             [
              0.3333333333333333,
              "#9c179e"
             ],
             [
              0.4444444444444444,
              "#bd3786"
             ],
             [
              0.5555555555555556,
              "#d8576b"
             ],
             [
              0.6666666666666666,
              "#ed7953"
             ],
             [
              0.7777777777777778,
              "#fb9f3a"
             ],
             [
              0.8888888888888888,
              "#fdca26"
             ],
             [
              1,
              "#f0f921"
             ]
            ],
            "type": "surface"
           }
          ],
          "table": [
           {
            "cells": {
             "fill": {
              "color": "#EBF0F8"
             },
             "line": {
              "color": "white"
             }
            },
            "header": {
             "fill": {
              "color": "#C8D4E3"
             },
             "line": {
              "color": "white"
             }
            },
            "type": "table"
           }
          ]
         },
         "layout": {
          "annotationdefaults": {
           "arrowcolor": "#2a3f5f",
           "arrowhead": 0,
           "arrowwidth": 1
          },
          "coloraxis": {
           "colorbar": {
            "outlinewidth": 0,
            "ticks": ""
           }
          },
          "colorscale": {
           "diverging": [
            [
             0,
             "#8e0152"
            ],
            [
             0.1,
             "#c51b7d"
            ],
            [
             0.2,
             "#de77ae"
            ],
            [
             0.3,
             "#f1b6da"
            ],
            [
             0.4,
             "#fde0ef"
            ],
            [
             0.5,
             "#f7f7f7"
            ],
            [
             0.6,
             "#e6f5d0"
            ],
            [
             0.7,
             "#b8e186"
            ],
            [
             0.8,
             "#7fbc41"
            ],
            [
             0.9,
             "#4d9221"
            ],
            [
             1,
             "#276419"
            ]
           ],
           "sequential": [
            [
             0,
             "#0d0887"
            ],
            [
             0.1111111111111111,
             "#46039f"
            ],
            [
             0.2222222222222222,
             "#7201a8"
            ],
            [
             0.3333333333333333,
             "#9c179e"
            ],
            [
             0.4444444444444444,
             "#bd3786"
            ],
            [
             0.5555555555555556,
             "#d8576b"
            ],
            [
             0.6666666666666666,
             "#ed7953"
            ],
            [
             0.7777777777777778,
             "#fb9f3a"
            ],
            [
             0.8888888888888888,
             "#fdca26"
            ],
            [
             1,
             "#f0f921"
            ]
           ],
           "sequentialminus": [
            [
             0,
             "#0d0887"
            ],
            [
             0.1111111111111111,
             "#46039f"
            ],
            [
             0.2222222222222222,
             "#7201a8"
            ],
            [
             0.3333333333333333,
             "#9c179e"
            ],
            [
             0.4444444444444444,
             "#bd3786"
            ],
            [
             0.5555555555555556,
             "#d8576b"
            ],
            [
             0.6666666666666666,
             "#ed7953"
            ],
            [
             0.7777777777777778,
             "#fb9f3a"
            ],
            [
             0.8888888888888888,
             "#fdca26"
            ],
            [
             1,
             "#f0f921"
            ]
           ]
          },
          "colorway": [
           "#636efa",
           "#EF553B",
           "#00cc96",
           "#ab63fa",
           "#FFA15A",
           "#19d3f3",
           "#FF6692",
           "#B6E880",
           "#FF97FF",
           "#FECB52"
          ],
          "font": {
           "color": "#2a3f5f"
          },
          "geo": {
           "bgcolor": "white",
           "lakecolor": "white",
           "landcolor": "#E5ECF6",
           "showlakes": true,
           "showland": true,
           "subunitcolor": "white"
          },
          "hoverlabel": {
           "align": "left"
          },
          "hovermode": "closest",
          "mapbox": {
           "style": "light"
          },
          "paper_bgcolor": "white",
          "plot_bgcolor": "#E5ECF6",
          "polar": {
           "angularaxis": {
            "gridcolor": "white",
            "linecolor": "white",
            "ticks": ""
           },
           "bgcolor": "#E5ECF6",
           "radialaxis": {
            "gridcolor": "white",
            "linecolor": "white",
            "ticks": ""
           }
          },
          "scene": {
           "xaxis": {
            "backgroundcolor": "#E5ECF6",
            "gridcolor": "white",
            "gridwidth": 2,
            "linecolor": "white",
            "showbackground": true,
            "ticks": "",
            "zerolinecolor": "white"
           },
           "yaxis": {
            "backgroundcolor": "#E5ECF6",
            "gridcolor": "white",
            "gridwidth": 2,
            "linecolor": "white",
            "showbackground": true,
            "ticks": "",
            "zerolinecolor": "white"
           },
           "zaxis": {
            "backgroundcolor": "#E5ECF6",
            "gridcolor": "white",
            "gridwidth": 2,
            "linecolor": "white",
            "showbackground": true,
            "ticks": "",
            "zerolinecolor": "white"
           }
          },
          "shapedefaults": {
           "line": {
            "color": "#2a3f5f"
           }
          },
          "ternary": {
           "aaxis": {
            "gridcolor": "white",
            "linecolor": "white",
            "ticks": ""
           },
           "baxis": {
            "gridcolor": "white",
            "linecolor": "white",
            "ticks": ""
           },
           "bgcolor": "#E5ECF6",
           "caxis": {
            "gridcolor": "white",
            "linecolor": "white",
            "ticks": ""
           }
          },
          "title": {
           "x": 0.05
          },
          "xaxis": {
           "automargin": true,
           "gridcolor": "white",
           "linecolor": "white",
           "ticks": "",
           "title": {
            "standoff": 15
           },
           "zerolinecolor": "white",
           "zerolinewidth": 2
          },
          "yaxis": {
           "automargin": true,
           "gridcolor": "white",
           "linecolor": "white",
           "ticks": "",
           "title": {
            "standoff": 15
           },
           "zerolinecolor": "white",
           "zerolinewidth": 2
          }
         }
        },
        "title": {
         "text": "Bar Chat Showing Top 10 Hotels With Highest Average Ratings."
        }
       }
      },
      "text/html": [
       "<div>\n",
       "        \n",
       "        \n",
       "            <div id=\"c3350640-a66d-421b-b884-fc5f38df359b\" class=\"plotly-graph-div\" style=\"height:525px; width:100%;\"></div>\n",
       "            <script type=\"text/javascript\">\n",
       "                require([\"plotly\"], function(Plotly) {\n",
       "                    window.PLOTLYENV=window.PLOTLYENV || {};\n",
       "                    \n",
       "                if (document.getElementById(\"c3350640-a66d-421b-b884-fc5f38df359b\")) {\n",
       "                    Plotly.newPlot(\n",
       "                        'c3350640-a66d-421b-b884-fc5f38df359b',\n",
       "                        [{\"marker\": {\"color\": \"rgb(158,202,225)\", \"line\": {\"color\": \"rgb(8,48,107)\", \"width\": 1.5}}, \"opacity\": 0.6, \"type\": \"bar\", \"x\": [\"Pelican Shores Inn\", \"Hyatt Regency Kathmandu\", \"Candlewood Suites Eugene Springfield\", \"Hampton Inn Virginia Beach Oceanfront North\", \"Holiday Inn Express Hotel and Suites Va Beach Oceanfront\", \"Scenic View Motel\", \"Royal Inn Motel\", \"Desert Motel Restaurant\", \"Arrowhead Motel and Rv Park\", \"Hampton Inn\"], \"y\": [8.368932038834954, 8.354385964912282, 8.241666666666665, 5.419601328903652, 5.284716157205242, 5.0, 5.0, 5.0, 5.0, 5.0]}],\n",
       "                        {\"template\": {\"data\": {\"bar\": [{\"error_x\": {\"color\": \"#2a3f5f\"}, \"error_y\": {\"color\": \"#2a3f5f\"}, \"marker\": {\"line\": {\"color\": \"#E5ECF6\", \"width\": 0.5}}, \"type\": \"bar\"}], \"barpolar\": [{\"marker\": {\"line\": {\"color\": \"#E5ECF6\", \"width\": 0.5}}, \"type\": \"barpolar\"}], \"carpet\": [{\"aaxis\": {\"endlinecolor\": \"#2a3f5f\", \"gridcolor\": \"white\", \"linecolor\": \"white\", \"minorgridcolor\": \"white\", \"startlinecolor\": \"#2a3f5f\"}, \"baxis\": {\"endlinecolor\": \"#2a3f5f\", \"gridcolor\": \"white\", \"linecolor\": \"white\", \"minorgridcolor\": \"white\", \"startlinecolor\": \"#2a3f5f\"}, \"type\": \"carpet\"}], \"choropleth\": [{\"colorbar\": {\"outlinewidth\": 0, \"ticks\": \"\"}, \"type\": \"choropleth\"}], \"contour\": [{\"colorbar\": {\"outlinewidth\": 0, \"ticks\": \"\"}, \"colorscale\": [[0.0, \"#0d0887\"], [0.1111111111111111, \"#46039f\"], [0.2222222222222222, \"#7201a8\"], [0.3333333333333333, \"#9c179e\"], [0.4444444444444444, \"#bd3786\"], [0.5555555555555556, \"#d8576b\"], [0.6666666666666666, \"#ed7953\"], [0.7777777777777778, \"#fb9f3a\"], [0.8888888888888888, \"#fdca26\"], [1.0, \"#f0f921\"]], \"type\": \"contour\"}], \"contourcarpet\": [{\"colorbar\": {\"outlinewidth\": 0, \"ticks\": \"\"}, \"type\": \"contourcarpet\"}], \"heatmap\": [{\"colorbar\": {\"outlinewidth\": 0, \"ticks\": \"\"}, \"colorscale\": [[0.0, \"#0d0887\"], [0.1111111111111111, \"#46039f\"], [0.2222222222222222, \"#7201a8\"], [0.3333333333333333, \"#9c179e\"], [0.4444444444444444, \"#bd3786\"], [0.5555555555555556, \"#d8576b\"], [0.6666666666666666, \"#ed7953\"], [0.7777777777777778, \"#fb9f3a\"], [0.8888888888888888, \"#fdca26\"], [1.0, \"#f0f921\"]], \"type\": \"heatmap\"}], \"heatmapgl\": [{\"colorbar\": {\"outlinewidth\": 0, \"ticks\": \"\"}, \"colorscale\": [[0.0, \"#0d0887\"], [0.1111111111111111, \"#46039f\"], [0.2222222222222222, \"#7201a8\"], [0.3333333333333333, \"#9c179e\"], [0.4444444444444444, \"#bd3786\"], [0.5555555555555556, \"#d8576b\"], [0.6666666666666666, \"#ed7953\"], [0.7777777777777778, \"#fb9f3a\"], [0.8888888888888888, \"#fdca26\"], [1.0, \"#f0f921\"]], \"type\": \"heatmapgl\"}], \"histogram\": [{\"marker\": {\"colorbar\": {\"outlinewidth\": 0, \"ticks\": \"\"}}, \"type\": \"histogram\"}], \"histogram2d\": [{\"colorbar\": {\"outlinewidth\": 0, \"ticks\": \"\"}, \"colorscale\": [[0.0, \"#0d0887\"], [0.1111111111111111, \"#46039f\"], [0.2222222222222222, \"#7201a8\"], [0.3333333333333333, \"#9c179e\"], [0.4444444444444444, \"#bd3786\"], [0.5555555555555556, \"#d8576b\"], [0.6666666666666666, \"#ed7953\"], [0.7777777777777778, \"#fb9f3a\"], [0.8888888888888888, \"#fdca26\"], [1.0, \"#f0f921\"]], \"type\": \"histogram2d\"}], \"histogram2dcontour\": [{\"colorbar\": {\"outlinewidth\": 0, \"ticks\": \"\"}, \"colorscale\": [[0.0, \"#0d0887\"], [0.1111111111111111, \"#46039f\"], [0.2222222222222222, \"#7201a8\"], [0.3333333333333333, \"#9c179e\"], [0.4444444444444444, \"#bd3786\"], [0.5555555555555556, \"#d8576b\"], [0.6666666666666666, \"#ed7953\"], [0.7777777777777778, \"#fb9f3a\"], [0.8888888888888888, \"#fdca26\"], [1.0, \"#f0f921\"]], \"type\": \"histogram2dcontour\"}], \"mesh3d\": [{\"colorbar\": {\"outlinewidth\": 0, \"ticks\": \"\"}, \"type\": \"mesh3d\"}], \"parcoords\": [{\"line\": {\"colorbar\": {\"outlinewidth\": 0, \"ticks\": \"\"}}, \"type\": \"parcoords\"}], \"pie\": [{\"automargin\": true, \"type\": \"pie\"}], \"scatter\": [{\"marker\": {\"colorbar\": {\"outlinewidth\": 0, \"ticks\": \"\"}}, \"type\": \"scatter\"}], \"scatter3d\": [{\"line\": {\"colorbar\": {\"outlinewidth\": 0, \"ticks\": \"\"}}, \"marker\": {\"colorbar\": {\"outlinewidth\": 0, \"ticks\": \"\"}}, \"type\": \"scatter3d\"}], \"scattercarpet\": [{\"marker\": {\"colorbar\": {\"outlinewidth\": 0, \"ticks\": \"\"}}, \"type\": \"scattercarpet\"}], \"scattergeo\": [{\"marker\": {\"colorbar\": {\"outlinewidth\": 0, \"ticks\": \"\"}}, \"type\": \"scattergeo\"}], \"scattergl\": [{\"marker\": {\"colorbar\": {\"outlinewidth\": 0, \"ticks\": \"\"}}, \"type\": \"scattergl\"}], \"scattermapbox\": [{\"marker\": {\"colorbar\": {\"outlinewidth\": 0, \"ticks\": \"\"}}, \"type\": \"scattermapbox\"}], \"scatterpolar\": [{\"marker\": {\"colorbar\": {\"outlinewidth\": 0, \"ticks\": \"\"}}, \"type\": \"scatterpolar\"}], \"scatterpolargl\": [{\"marker\": {\"colorbar\": {\"outlinewidth\": 0, \"ticks\": \"\"}}, \"type\": \"scatterpolargl\"}], \"scatterternary\": [{\"marker\": {\"colorbar\": {\"outlinewidth\": 0, \"ticks\": \"\"}}, \"type\": \"scatterternary\"}], \"surface\": [{\"colorbar\": {\"outlinewidth\": 0, \"ticks\": \"\"}, \"colorscale\": [[0.0, \"#0d0887\"], [0.1111111111111111, \"#46039f\"], [0.2222222222222222, \"#7201a8\"], [0.3333333333333333, \"#9c179e\"], [0.4444444444444444, \"#bd3786\"], [0.5555555555555556, \"#d8576b\"], [0.6666666666666666, \"#ed7953\"], [0.7777777777777778, \"#fb9f3a\"], [0.8888888888888888, \"#fdca26\"], [1.0, \"#f0f921\"]], \"type\": \"surface\"}], \"table\": [{\"cells\": {\"fill\": {\"color\": \"#EBF0F8\"}, \"line\": {\"color\": \"white\"}}, \"header\": {\"fill\": {\"color\": \"#C8D4E3\"}, \"line\": {\"color\": \"white\"}}, \"type\": \"table\"}]}, \"layout\": {\"annotationdefaults\": {\"arrowcolor\": \"#2a3f5f\", \"arrowhead\": 0, \"arrowwidth\": 1}, \"coloraxis\": {\"colorbar\": {\"outlinewidth\": 0, \"ticks\": \"\"}}, \"colorscale\": {\"diverging\": [[0, \"#8e0152\"], [0.1, \"#c51b7d\"], [0.2, \"#de77ae\"], [0.3, \"#f1b6da\"], [0.4, \"#fde0ef\"], [0.5, \"#f7f7f7\"], [0.6, \"#e6f5d0\"], [0.7, \"#b8e186\"], [0.8, \"#7fbc41\"], [0.9, \"#4d9221\"], [1, \"#276419\"]], \"sequential\": [[0.0, \"#0d0887\"], [0.1111111111111111, \"#46039f\"], [0.2222222222222222, \"#7201a8\"], [0.3333333333333333, \"#9c179e\"], [0.4444444444444444, \"#bd3786\"], [0.5555555555555556, \"#d8576b\"], [0.6666666666666666, \"#ed7953\"], [0.7777777777777778, \"#fb9f3a\"], [0.8888888888888888, \"#fdca26\"], [1.0, \"#f0f921\"]], \"sequentialminus\": [[0.0, \"#0d0887\"], [0.1111111111111111, \"#46039f\"], [0.2222222222222222, \"#7201a8\"], [0.3333333333333333, \"#9c179e\"], [0.4444444444444444, \"#bd3786\"], [0.5555555555555556, \"#d8576b\"], [0.6666666666666666, \"#ed7953\"], [0.7777777777777778, \"#fb9f3a\"], [0.8888888888888888, \"#fdca26\"], [1.0, \"#f0f921\"]]}, \"colorway\": [\"#636efa\", \"#EF553B\", \"#00cc96\", \"#ab63fa\", \"#FFA15A\", \"#19d3f3\", \"#FF6692\", \"#B6E880\", \"#FF97FF\", \"#FECB52\"], \"font\": {\"color\": \"#2a3f5f\"}, \"geo\": {\"bgcolor\": \"white\", \"lakecolor\": \"white\", \"landcolor\": \"#E5ECF6\", \"showlakes\": true, \"showland\": true, \"subunitcolor\": \"white\"}, \"hoverlabel\": {\"align\": \"left\"}, \"hovermode\": \"closest\", \"mapbox\": {\"style\": \"light\"}, \"paper_bgcolor\": \"white\", \"plot_bgcolor\": \"#E5ECF6\", \"polar\": {\"angularaxis\": {\"gridcolor\": \"white\", \"linecolor\": \"white\", \"ticks\": \"\"}, \"bgcolor\": \"#E5ECF6\", \"radialaxis\": {\"gridcolor\": \"white\", \"linecolor\": \"white\", \"ticks\": \"\"}}, \"scene\": {\"xaxis\": {\"backgroundcolor\": \"#E5ECF6\", \"gridcolor\": \"white\", \"gridwidth\": 2, \"linecolor\": \"white\", \"showbackground\": true, \"ticks\": \"\", \"zerolinecolor\": \"white\"}, \"yaxis\": {\"backgroundcolor\": \"#E5ECF6\", \"gridcolor\": \"white\", \"gridwidth\": 2, \"linecolor\": \"white\", \"showbackground\": true, \"ticks\": \"\", \"zerolinecolor\": \"white\"}, \"zaxis\": {\"backgroundcolor\": \"#E5ECF6\", \"gridcolor\": \"white\", \"gridwidth\": 2, \"linecolor\": \"white\", \"showbackground\": true, \"ticks\": \"\", \"zerolinecolor\": \"white\"}}, \"shapedefaults\": {\"line\": {\"color\": \"#2a3f5f\"}}, \"ternary\": {\"aaxis\": {\"gridcolor\": \"white\", \"linecolor\": \"white\", \"ticks\": \"\"}, \"baxis\": {\"gridcolor\": \"white\", \"linecolor\": \"white\", \"ticks\": \"\"}, \"bgcolor\": \"#E5ECF6\", \"caxis\": {\"gridcolor\": \"white\", \"linecolor\": \"white\", \"ticks\": \"\"}}, \"title\": {\"x\": 0.05}, \"xaxis\": {\"automargin\": true, \"gridcolor\": \"white\", \"linecolor\": \"white\", \"ticks\": \"\", \"title\": {\"standoff\": 15}, \"zerolinecolor\": \"white\", \"zerolinewidth\": 2}, \"yaxis\": {\"automargin\": true, \"gridcolor\": \"white\", \"linecolor\": \"white\", \"ticks\": \"\", \"title\": {\"standoff\": 15}, \"zerolinecolor\": \"white\", \"zerolinewidth\": 2}}}, \"title\": {\"text\": \"Bar Chat Showing Top 10 Hotels With Highest Average Ratings.\"}},\n",
       "                        {\"responsive\": true}\n",
       "                    ).then(function(){\n",
       "                            \n",
       "var gd = document.getElementById('c3350640-a66d-421b-b884-fc5f38df359b');\n",
       "var x = new MutationObserver(function (mutations, observer) {{\n",
       "        var display = window.getComputedStyle(gd).display;\n",
       "        if (!display || display === 'none') {{\n",
       "            console.log([gd, 'removed!']);\n",
       "            Plotly.purge(gd);\n",
       "            observer.disconnect();\n",
       "        }}\n",
       "}});\n",
       "\n",
       "// Listen for the removal of the full notebook cells\n",
       "var notebookContainer = gd.closest('#notebook-container');\n",
       "if (notebookContainer) {{\n",
       "    x.observe(notebookContainer, {childList: true});\n",
       "}}\n",
       "\n",
       "// Listen for the clearing of the current output cell\n",
       "var outputEl = gd.closest('.output');\n",
       "if (outputEl) {{\n",
       "    x.observe(outputEl, {childList: true});\n",
       "}}\n",
       "\n",
       "                        })\n",
       "                };\n",
       "                });\n",
       "            </script>\n",
       "        </div>"
      ]
     },
     "metadata": {},
     "output_type": "display_data"
    }
   ],
   "source": [
    "q2 = df.groupby('name')['rating'].mean().reset_index().sort_values(by='rating', ascending=False)[:10]\n",
    "trace = go.Bar(\n",
    "    x=q2['name'],\n",
    "    y=q2['rating'],\n",
    "    marker=dict(\n",
    "        color='rgb(158,202,225)',\n",
    "        line=dict(\n",
    "            color='rgb(8,48,107)',\n",
    "            width=1.5,\n",
    "        )\n",
    "    ),    \n",
    "    opacity=0.6\n",
    ")\n",
    "\n",
    "data = [trace]\n",
    "\n",
    "layout = go.Layout(\n",
    "    title='Bar Chat Showing Top 10 Hotels With Highest Average Ratings.',\n",
    ")\n",
    "\n",
    "fig = go.Figure(data=data, layout=layout)\n",
    "py.iplot(fig, filename='hotel-reviews-highest-rating')"
   ]
  },
  {
   "cell_type": "code",
   "execution_count": 9,
   "metadata": {
    "_uuid": "76be9aade01a3ba64891534fb6036f40dc11e667"
   },
   "outputs": [
    {
     "name": "stdout",
     "output_type": "stream",
     "text": [
      "Answer: Alexandria\n"
     ]
    }
   ],
   "source": [
    "# Q3. Which City has the highest number of hotels.\n",
    "q3 = df['city'].value_counts().reset_index().iloc[0]['index']\n",
    "print(\"Answer: \" + q3)"
   ]
  },
  {
   "cell_type": "code",
   "execution_count": 10,
   "metadata": {
    "_uuid": "81a3cc1c51d02452f6eb22e24d4d3e807b65a48f"
   },
   "outputs": [
    {
     "data": {
      "application/vnd.plotly.v1+json": {
       "config": {
        "linkText": "Export to plot.ly",
        "plotlyServerURL": "https://plot.ly",
        "showLink": false
       },
       "data": [
        {
         "marker": {
          "color": "rgb(158,202,225)",
          "line": {
           "color": "rgb(8,48,107)",
           "width": 1.5
          }
         },
         "opacity": 0.6,
         "type": "bar",
         "x": [
          "Alexandria",
          "Virginia Beach",
          "Newburgh",
          "San Antonio",
          "Biloxi",
          "Erie",
          "Seattle",
          "New Orleans",
          "Waterville",
          "Fort Lauderdale",
          "West Yarmouth",
          "Springfield",
          "New York",
          "Long Beach",
          "Columbus",
          "Las Vegas",
          "Tucson",
          "Colorado Springs",
          "West Palm Beach",
          "Garden Grove"
         ],
         "y": [
          1185,
          754,
          714,
          698,
          392,
          357,
          353,
          349,
          335,
          332,
          332,
          327,
          322,
          317,
          315,
          291,
          284,
          279,
          276,
          275
         ]
        }
       ],
       "layout": {
        "template": {
         "data": {
          "bar": [
           {
            "error_x": {
             "color": "#2a3f5f"
            },
            "error_y": {
             "color": "#2a3f5f"
            },
            "marker": {
             "line": {
              "color": "#E5ECF6",
              "width": 0.5
             }
            },
            "type": "bar"
           }
          ],
          "barpolar": [
           {
            "marker": {
             "line": {
              "color": "#E5ECF6",
              "width": 0.5
             }
            },
            "type": "barpolar"
           }
          ],
          "carpet": [
           {
            "aaxis": {
             "endlinecolor": "#2a3f5f",
             "gridcolor": "white",
             "linecolor": "white",
             "minorgridcolor": "white",
             "startlinecolor": "#2a3f5f"
            },
            "baxis": {
             "endlinecolor": "#2a3f5f",
             "gridcolor": "white",
             "linecolor": "white",
             "minorgridcolor": "white",
             "startlinecolor": "#2a3f5f"
            },
            "type": "carpet"
           }
          ],
          "choropleth": [
           {
            "colorbar": {
             "outlinewidth": 0,
             "ticks": ""
            },
            "type": "choropleth"
           }
          ],
          "contour": [
           {
            "colorbar": {
             "outlinewidth": 0,
             "ticks": ""
            },
            "colorscale": [
             [
              0,
              "#0d0887"
             ],
             [
              0.1111111111111111,
              "#46039f"
             ],
             [
              0.2222222222222222,
              "#7201a8"
             ],
             [
              0.3333333333333333,
              "#9c179e"
             ],
             [
              0.4444444444444444,
              "#bd3786"
             ],
             [
              0.5555555555555556,
              "#d8576b"
             ],
             [
              0.6666666666666666,
              "#ed7953"
             ],
             [
              0.7777777777777778,
              "#fb9f3a"
             ],
             [
              0.8888888888888888,
              "#fdca26"
             ],
             [
              1,
              "#f0f921"
             ]
            ],
            "type": "contour"
           }
          ],
          "contourcarpet": [
           {
            "colorbar": {
             "outlinewidth": 0,
             "ticks": ""
            },
            "type": "contourcarpet"
           }
          ],
          "heatmap": [
           {
            "colorbar": {
             "outlinewidth": 0,
             "ticks": ""
            },
            "colorscale": [
             [
              0,
              "#0d0887"
             ],
             [
              0.1111111111111111,
              "#46039f"
             ],
             [
              0.2222222222222222,
              "#7201a8"
             ],
             [
              0.3333333333333333,
              "#9c179e"
             ],
             [
              0.4444444444444444,
              "#bd3786"
             ],
             [
              0.5555555555555556,
              "#d8576b"
             ],
             [
              0.6666666666666666,
              "#ed7953"
             ],
             [
              0.7777777777777778,
              "#fb9f3a"
             ],
             [
              0.8888888888888888,
              "#fdca26"
             ],
             [
              1,
              "#f0f921"
             ]
            ],
            "type": "heatmap"
           }
          ],
          "heatmapgl": [
           {
            "colorbar": {
             "outlinewidth": 0,
             "ticks": ""
            },
            "colorscale": [
             [
              0,
              "#0d0887"
             ],
             [
              0.1111111111111111,
              "#46039f"
             ],
             [
              0.2222222222222222,
              "#7201a8"
             ],
             [
              0.3333333333333333,
              "#9c179e"
             ],
             [
              0.4444444444444444,
              "#bd3786"
             ],
             [
              0.5555555555555556,
              "#d8576b"
             ],
             [
              0.6666666666666666,
              "#ed7953"
             ],
             [
              0.7777777777777778,
              "#fb9f3a"
             ],
             [
              0.8888888888888888,
              "#fdca26"
             ],
             [
              1,
              "#f0f921"
             ]
            ],
            "type": "heatmapgl"
           }
          ],
          "histogram": [
           {
            "marker": {
             "colorbar": {
              "outlinewidth": 0,
              "ticks": ""
             }
            },
            "type": "histogram"
           }
          ],
          "histogram2d": [
           {
            "colorbar": {
             "outlinewidth": 0,
             "ticks": ""
            },
            "colorscale": [
             [
              0,
              "#0d0887"
             ],
             [
              0.1111111111111111,
              "#46039f"
             ],
             [
              0.2222222222222222,
              "#7201a8"
             ],
             [
              0.3333333333333333,
              "#9c179e"
             ],
             [
              0.4444444444444444,
              "#bd3786"
             ],
             [
              0.5555555555555556,
              "#d8576b"
             ],
             [
              0.6666666666666666,
              "#ed7953"
             ],
             [
              0.7777777777777778,
              "#fb9f3a"
             ],
             [
              0.8888888888888888,
              "#fdca26"
             ],
             [
              1,
              "#f0f921"
             ]
            ],
            "type": "histogram2d"
           }
          ],
          "histogram2dcontour": [
           {
            "colorbar": {
             "outlinewidth": 0,
             "ticks": ""
            },
            "colorscale": [
             [
              0,
              "#0d0887"
             ],
             [
              0.1111111111111111,
              "#46039f"
             ],
             [
              0.2222222222222222,
              "#7201a8"
             ],
             [
              0.3333333333333333,
              "#9c179e"
             ],
             [
              0.4444444444444444,
              "#bd3786"
             ],
             [
              0.5555555555555556,
              "#d8576b"
             ],
             [
              0.6666666666666666,
              "#ed7953"
             ],
             [
              0.7777777777777778,
              "#fb9f3a"
             ],
             [
              0.8888888888888888,
              "#fdca26"
             ],
             [
              1,
              "#f0f921"
             ]
            ],
            "type": "histogram2dcontour"
           }
          ],
          "mesh3d": [
           {
            "colorbar": {
             "outlinewidth": 0,
             "ticks": ""
            },
            "type": "mesh3d"
           }
          ],
          "parcoords": [
           {
            "line": {
             "colorbar": {
              "outlinewidth": 0,
              "ticks": ""
             }
            },
            "type": "parcoords"
           }
          ],
          "pie": [
           {
            "automargin": true,
            "type": "pie"
           }
          ],
          "scatter": [
           {
            "marker": {
             "colorbar": {
              "outlinewidth": 0,
              "ticks": ""
             }
            },
            "type": "scatter"
           }
          ],
          "scatter3d": [
           {
            "line": {
             "colorbar": {
              "outlinewidth": 0,
              "ticks": ""
             }
            },
            "marker": {
             "colorbar": {
              "outlinewidth": 0,
              "ticks": ""
             }
            },
            "type": "scatter3d"
           }
          ],
          "scattercarpet": [
           {
            "marker": {
             "colorbar": {
              "outlinewidth": 0,
              "ticks": ""
             }
            },
            "type": "scattercarpet"
           }
          ],
          "scattergeo": [
           {
            "marker": {
             "colorbar": {
              "outlinewidth": 0,
              "ticks": ""
             }
            },
            "type": "scattergeo"
           }
          ],
          "scattergl": [
           {
            "marker": {
             "colorbar": {
              "outlinewidth": 0,
              "ticks": ""
             }
            },
            "type": "scattergl"
           }
          ],
          "scattermapbox": [
           {
            "marker": {
             "colorbar": {
              "outlinewidth": 0,
              "ticks": ""
             }
            },
            "type": "scattermapbox"
           }
          ],
          "scatterpolar": [
           {
            "marker": {
             "colorbar": {
              "outlinewidth": 0,
              "ticks": ""
             }
            },
            "type": "scatterpolar"
           }
          ],
          "scatterpolargl": [
           {
            "marker": {
             "colorbar": {
              "outlinewidth": 0,
              "ticks": ""
             }
            },
            "type": "scatterpolargl"
           }
          ],
          "scatterternary": [
           {
            "marker": {
             "colorbar": {
              "outlinewidth": 0,
              "ticks": ""
             }
            },
            "type": "scatterternary"
           }
          ],
          "surface": [
           {
            "colorbar": {
             "outlinewidth": 0,
             "ticks": ""
            },
            "colorscale": [
             [
              0,
              "#0d0887"
             ],
             [
              0.1111111111111111,
              "#46039f"
             ],
             [
              0.2222222222222222,
              "#7201a8"
             ],
             [
              0.3333333333333333,
              "#9c179e"
             ],
             [
              0.4444444444444444,
              "#bd3786"
             ],
             [
              0.5555555555555556,
              "#d8576b"
             ],
             [
              0.6666666666666666,
              "#ed7953"
             ],
             [
              0.7777777777777778,
              "#fb9f3a"
             ],
             [
              0.8888888888888888,
              "#fdca26"
             ],
             [
              1,
              "#f0f921"
             ]
            ],
            "type": "surface"
           }
          ],
          "table": [
           {
            "cells": {
             "fill": {
              "color": "#EBF0F8"
             },
             "line": {
              "color": "white"
             }
            },
            "header": {
             "fill": {
              "color": "#C8D4E3"
             },
             "line": {
              "color": "white"
             }
            },
            "type": "table"
           }
          ]
         },
         "layout": {
          "annotationdefaults": {
           "arrowcolor": "#2a3f5f",
           "arrowhead": 0,
           "arrowwidth": 1
          },
          "coloraxis": {
           "colorbar": {
            "outlinewidth": 0,
            "ticks": ""
           }
          },
          "colorscale": {
           "diverging": [
            [
             0,
             "#8e0152"
            ],
            [
             0.1,
             "#c51b7d"
            ],
            [
             0.2,
             "#de77ae"
            ],
            [
             0.3,
             "#f1b6da"
            ],
            [
             0.4,
             "#fde0ef"
            ],
            [
             0.5,
             "#f7f7f7"
            ],
            [
             0.6,
             "#e6f5d0"
            ],
            [
             0.7,
             "#b8e186"
            ],
            [
             0.8,
             "#7fbc41"
            ],
            [
             0.9,
             "#4d9221"
            ],
            [
             1,
             "#276419"
            ]
           ],
           "sequential": [
            [
             0,
             "#0d0887"
            ],
            [
             0.1111111111111111,
             "#46039f"
            ],
            [
             0.2222222222222222,
             "#7201a8"
            ],
            [
             0.3333333333333333,
             "#9c179e"
            ],
            [
             0.4444444444444444,
             "#bd3786"
            ],
            [
             0.5555555555555556,
             "#d8576b"
            ],
            [
             0.6666666666666666,
             "#ed7953"
            ],
            [
             0.7777777777777778,
             "#fb9f3a"
            ],
            [
             0.8888888888888888,
             "#fdca26"
            ],
            [
             1,
             "#f0f921"
            ]
           ],
           "sequentialminus": [
            [
             0,
             "#0d0887"
            ],
            [
             0.1111111111111111,
             "#46039f"
            ],
            [
             0.2222222222222222,
             "#7201a8"
            ],
            [
             0.3333333333333333,
             "#9c179e"
            ],
            [
             0.4444444444444444,
             "#bd3786"
            ],
            [
             0.5555555555555556,
             "#d8576b"
            ],
            [
             0.6666666666666666,
             "#ed7953"
            ],
            [
             0.7777777777777778,
             "#fb9f3a"
            ],
            [
             0.8888888888888888,
             "#fdca26"
            ],
            [
             1,
             "#f0f921"
            ]
           ]
          },
          "colorway": [
           "#636efa",
           "#EF553B",
           "#00cc96",
           "#ab63fa",
           "#FFA15A",
           "#19d3f3",
           "#FF6692",
           "#B6E880",
           "#FF97FF",
           "#FECB52"
          ],
          "font": {
           "color": "#2a3f5f"
          },
          "geo": {
           "bgcolor": "white",
           "lakecolor": "white",
           "landcolor": "#E5ECF6",
           "showlakes": true,
           "showland": true,
           "subunitcolor": "white"
          },
          "hoverlabel": {
           "align": "left"
          },
          "hovermode": "closest",
          "mapbox": {
           "style": "light"
          },
          "paper_bgcolor": "white",
          "plot_bgcolor": "#E5ECF6",
          "polar": {
           "angularaxis": {
            "gridcolor": "white",
            "linecolor": "white",
            "ticks": ""
           },
           "bgcolor": "#E5ECF6",
           "radialaxis": {
            "gridcolor": "white",
            "linecolor": "white",
            "ticks": ""
           }
          },
          "scene": {
           "xaxis": {
            "backgroundcolor": "#E5ECF6",
            "gridcolor": "white",
            "gridwidth": 2,
            "linecolor": "white",
            "showbackground": true,
            "ticks": "",
            "zerolinecolor": "white"
           },
           "yaxis": {
            "backgroundcolor": "#E5ECF6",
            "gridcolor": "white",
            "gridwidth": 2,
            "linecolor": "white",
            "showbackground": true,
            "ticks": "",
            "zerolinecolor": "white"
           },
           "zaxis": {
            "backgroundcolor": "#E5ECF6",
            "gridcolor": "white",
            "gridwidth": 2,
            "linecolor": "white",
            "showbackground": true,
            "ticks": "",
            "zerolinecolor": "white"
           }
          },
          "shapedefaults": {
           "line": {
            "color": "#2a3f5f"
           }
          },
          "ternary": {
           "aaxis": {
            "gridcolor": "white",
            "linecolor": "white",
            "ticks": ""
           },
           "baxis": {
            "gridcolor": "white",
            "linecolor": "white",
            "ticks": ""
           },
           "bgcolor": "#E5ECF6",
           "caxis": {
            "gridcolor": "white",
            "linecolor": "white",
            "ticks": ""
           }
          },
          "title": {
           "x": 0.05
          },
          "xaxis": {
           "automargin": true,
           "gridcolor": "white",
           "linecolor": "white",
           "ticks": "",
           "title": {
            "standoff": 15
           },
           "zerolinecolor": "white",
           "zerolinewidth": 2
          },
          "yaxis": {
           "automargin": true,
           "gridcolor": "white",
           "linecolor": "white",
           "ticks": "",
           "title": {
            "standoff": 15
           },
           "zerolinecolor": "white",
           "zerolinewidth": 2
          }
         }
        },
        "title": {
         "text": "Bar Chart Showing Top 20 Cities With Highest Reviews."
        }
       }
      },
      "text/html": [
       "<div>\n",
       "        \n",
       "        \n",
       "            <div id=\"bda891b4-9363-45fd-8d44-edfb5fa4b40b\" class=\"plotly-graph-div\" style=\"height:525px; width:100%;\"></div>\n",
       "            <script type=\"text/javascript\">\n",
       "                require([\"plotly\"], function(Plotly) {\n",
       "                    window.PLOTLYENV=window.PLOTLYENV || {};\n",
       "                    \n",
       "                if (document.getElementById(\"bda891b4-9363-45fd-8d44-edfb5fa4b40b\")) {\n",
       "                    Plotly.newPlot(\n",
       "                        'bda891b4-9363-45fd-8d44-edfb5fa4b40b',\n",
       "                        [{\"marker\": {\"color\": \"rgb(158,202,225)\", \"line\": {\"color\": \"rgb(8,48,107)\", \"width\": 1.5}}, \"opacity\": 0.6, \"type\": \"bar\", \"x\": [\"Alexandria\", \"Virginia Beach\", \"Newburgh\", \"San Antonio\", \"Biloxi\", \"Erie\", \"Seattle\", \"New Orleans\", \"Waterville\", \"Fort Lauderdale\", \"West Yarmouth\", \"Springfield\", \"New York\", \"Long Beach\", \"Columbus\", \"Las Vegas\", \"Tucson\", \"Colorado Springs\", \"West Palm Beach\", \"Garden Grove\"], \"y\": [1185, 754, 714, 698, 392, 357, 353, 349, 335, 332, 332, 327, 322, 317, 315, 291, 284, 279, 276, 275]}],\n",
       "                        {\"template\": {\"data\": {\"bar\": [{\"error_x\": {\"color\": \"#2a3f5f\"}, \"error_y\": {\"color\": \"#2a3f5f\"}, \"marker\": {\"line\": {\"color\": \"#E5ECF6\", \"width\": 0.5}}, \"type\": \"bar\"}], \"barpolar\": [{\"marker\": {\"line\": {\"color\": \"#E5ECF6\", \"width\": 0.5}}, \"type\": \"barpolar\"}], \"carpet\": [{\"aaxis\": {\"endlinecolor\": \"#2a3f5f\", \"gridcolor\": \"white\", \"linecolor\": \"white\", \"minorgridcolor\": \"white\", \"startlinecolor\": \"#2a3f5f\"}, \"baxis\": {\"endlinecolor\": \"#2a3f5f\", \"gridcolor\": \"white\", \"linecolor\": \"white\", \"minorgridcolor\": \"white\", \"startlinecolor\": \"#2a3f5f\"}, \"type\": \"carpet\"}], \"choropleth\": [{\"colorbar\": {\"outlinewidth\": 0, \"ticks\": \"\"}, \"type\": \"choropleth\"}], \"contour\": [{\"colorbar\": {\"outlinewidth\": 0, \"ticks\": \"\"}, \"colorscale\": [[0.0, \"#0d0887\"], [0.1111111111111111, \"#46039f\"], [0.2222222222222222, \"#7201a8\"], [0.3333333333333333, \"#9c179e\"], [0.4444444444444444, \"#bd3786\"], [0.5555555555555556, \"#d8576b\"], [0.6666666666666666, \"#ed7953\"], [0.7777777777777778, \"#fb9f3a\"], [0.8888888888888888, \"#fdca26\"], [1.0, \"#f0f921\"]], \"type\": \"contour\"}], \"contourcarpet\": [{\"colorbar\": {\"outlinewidth\": 0, \"ticks\": \"\"}, \"type\": \"contourcarpet\"}], \"heatmap\": [{\"colorbar\": {\"outlinewidth\": 0, \"ticks\": \"\"}, \"colorscale\": [[0.0, \"#0d0887\"], [0.1111111111111111, \"#46039f\"], [0.2222222222222222, \"#7201a8\"], [0.3333333333333333, \"#9c179e\"], [0.4444444444444444, \"#bd3786\"], [0.5555555555555556, \"#d8576b\"], [0.6666666666666666, \"#ed7953\"], [0.7777777777777778, \"#fb9f3a\"], [0.8888888888888888, \"#fdca26\"], [1.0, \"#f0f921\"]], \"type\": \"heatmap\"}], \"heatmapgl\": [{\"colorbar\": {\"outlinewidth\": 0, \"ticks\": \"\"}, \"colorscale\": [[0.0, \"#0d0887\"], [0.1111111111111111, \"#46039f\"], [0.2222222222222222, \"#7201a8\"], [0.3333333333333333, \"#9c179e\"], [0.4444444444444444, \"#bd3786\"], [0.5555555555555556, \"#d8576b\"], [0.6666666666666666, \"#ed7953\"], [0.7777777777777778, \"#fb9f3a\"], [0.8888888888888888, \"#fdca26\"], [1.0, \"#f0f921\"]], \"type\": \"heatmapgl\"}], \"histogram\": [{\"marker\": {\"colorbar\": {\"outlinewidth\": 0, \"ticks\": \"\"}}, \"type\": \"histogram\"}], \"histogram2d\": [{\"colorbar\": {\"outlinewidth\": 0, \"ticks\": \"\"}, \"colorscale\": [[0.0, \"#0d0887\"], [0.1111111111111111, \"#46039f\"], [0.2222222222222222, \"#7201a8\"], [0.3333333333333333, \"#9c179e\"], [0.4444444444444444, \"#bd3786\"], [0.5555555555555556, \"#d8576b\"], [0.6666666666666666, \"#ed7953\"], [0.7777777777777778, \"#fb9f3a\"], [0.8888888888888888, \"#fdca26\"], [1.0, \"#f0f921\"]], \"type\": \"histogram2d\"}], \"histogram2dcontour\": [{\"colorbar\": {\"outlinewidth\": 0, \"ticks\": \"\"}, \"colorscale\": [[0.0, \"#0d0887\"], [0.1111111111111111, \"#46039f\"], [0.2222222222222222, \"#7201a8\"], [0.3333333333333333, \"#9c179e\"], [0.4444444444444444, \"#bd3786\"], [0.5555555555555556, \"#d8576b\"], [0.6666666666666666, \"#ed7953\"], [0.7777777777777778, \"#fb9f3a\"], [0.8888888888888888, \"#fdca26\"], [1.0, \"#f0f921\"]], \"type\": \"histogram2dcontour\"}], \"mesh3d\": [{\"colorbar\": {\"outlinewidth\": 0, \"ticks\": \"\"}, \"type\": \"mesh3d\"}], \"parcoords\": [{\"line\": {\"colorbar\": {\"outlinewidth\": 0, \"ticks\": \"\"}}, \"type\": \"parcoords\"}], \"pie\": [{\"automargin\": true, \"type\": \"pie\"}], \"scatter\": [{\"marker\": {\"colorbar\": {\"outlinewidth\": 0, \"ticks\": \"\"}}, \"type\": \"scatter\"}], \"scatter3d\": [{\"line\": {\"colorbar\": {\"outlinewidth\": 0, \"ticks\": \"\"}}, \"marker\": {\"colorbar\": {\"outlinewidth\": 0, \"ticks\": \"\"}}, \"type\": \"scatter3d\"}], \"scattercarpet\": [{\"marker\": {\"colorbar\": {\"outlinewidth\": 0, \"ticks\": \"\"}}, \"type\": \"scattercarpet\"}], \"scattergeo\": [{\"marker\": {\"colorbar\": {\"outlinewidth\": 0, \"ticks\": \"\"}}, \"type\": \"scattergeo\"}], \"scattergl\": [{\"marker\": {\"colorbar\": {\"outlinewidth\": 0, \"ticks\": \"\"}}, \"type\": \"scattergl\"}], \"scattermapbox\": [{\"marker\": {\"colorbar\": {\"outlinewidth\": 0, \"ticks\": \"\"}}, \"type\": \"scattermapbox\"}], \"scatterpolar\": [{\"marker\": {\"colorbar\": {\"outlinewidth\": 0, \"ticks\": \"\"}}, \"type\": \"scatterpolar\"}], \"scatterpolargl\": [{\"marker\": {\"colorbar\": {\"outlinewidth\": 0, \"ticks\": \"\"}}, \"type\": \"scatterpolargl\"}], \"scatterternary\": [{\"marker\": {\"colorbar\": {\"outlinewidth\": 0, \"ticks\": \"\"}}, \"type\": \"scatterternary\"}], \"surface\": [{\"colorbar\": {\"outlinewidth\": 0, \"ticks\": \"\"}, \"colorscale\": [[0.0, \"#0d0887\"], [0.1111111111111111, \"#46039f\"], [0.2222222222222222, \"#7201a8\"], [0.3333333333333333, \"#9c179e\"], [0.4444444444444444, \"#bd3786\"], [0.5555555555555556, \"#d8576b\"], [0.6666666666666666, \"#ed7953\"], [0.7777777777777778, \"#fb9f3a\"], [0.8888888888888888, \"#fdca26\"], [1.0, \"#f0f921\"]], \"type\": \"surface\"}], \"table\": [{\"cells\": {\"fill\": {\"color\": \"#EBF0F8\"}, \"line\": {\"color\": \"white\"}}, \"header\": {\"fill\": {\"color\": \"#C8D4E3\"}, \"line\": {\"color\": \"white\"}}, \"type\": \"table\"}]}, \"layout\": {\"annotationdefaults\": {\"arrowcolor\": \"#2a3f5f\", \"arrowhead\": 0, \"arrowwidth\": 1}, \"coloraxis\": {\"colorbar\": {\"outlinewidth\": 0, \"ticks\": \"\"}}, \"colorscale\": {\"diverging\": [[0, \"#8e0152\"], [0.1, \"#c51b7d\"], [0.2, \"#de77ae\"], [0.3, \"#f1b6da\"], [0.4, \"#fde0ef\"], [0.5, \"#f7f7f7\"], [0.6, \"#e6f5d0\"], [0.7, \"#b8e186\"], [0.8, \"#7fbc41\"], [0.9, \"#4d9221\"], [1, \"#276419\"]], \"sequential\": [[0.0, \"#0d0887\"], [0.1111111111111111, \"#46039f\"], [0.2222222222222222, \"#7201a8\"], [0.3333333333333333, \"#9c179e\"], [0.4444444444444444, \"#bd3786\"], [0.5555555555555556, \"#d8576b\"], [0.6666666666666666, \"#ed7953\"], [0.7777777777777778, \"#fb9f3a\"], [0.8888888888888888, \"#fdca26\"], [1.0, \"#f0f921\"]], \"sequentialminus\": [[0.0, \"#0d0887\"], [0.1111111111111111, \"#46039f\"], [0.2222222222222222, \"#7201a8\"], [0.3333333333333333, \"#9c179e\"], [0.4444444444444444, \"#bd3786\"], [0.5555555555555556, \"#d8576b\"], [0.6666666666666666, \"#ed7953\"], [0.7777777777777778, \"#fb9f3a\"], [0.8888888888888888, \"#fdca26\"], [1.0, \"#f0f921\"]]}, \"colorway\": [\"#636efa\", \"#EF553B\", \"#00cc96\", \"#ab63fa\", \"#FFA15A\", \"#19d3f3\", \"#FF6692\", \"#B6E880\", \"#FF97FF\", \"#FECB52\"], \"font\": {\"color\": \"#2a3f5f\"}, \"geo\": {\"bgcolor\": \"white\", \"lakecolor\": \"white\", \"landcolor\": \"#E5ECF6\", \"showlakes\": true, \"showland\": true, \"subunitcolor\": \"white\"}, \"hoverlabel\": {\"align\": \"left\"}, \"hovermode\": \"closest\", \"mapbox\": {\"style\": \"light\"}, \"paper_bgcolor\": \"white\", \"plot_bgcolor\": \"#E5ECF6\", \"polar\": {\"angularaxis\": {\"gridcolor\": \"white\", \"linecolor\": \"white\", \"ticks\": \"\"}, \"bgcolor\": \"#E5ECF6\", \"radialaxis\": {\"gridcolor\": \"white\", \"linecolor\": \"white\", \"ticks\": \"\"}}, \"scene\": {\"xaxis\": {\"backgroundcolor\": \"#E5ECF6\", \"gridcolor\": \"white\", \"gridwidth\": 2, \"linecolor\": \"white\", \"showbackground\": true, \"ticks\": \"\", \"zerolinecolor\": \"white\"}, \"yaxis\": {\"backgroundcolor\": \"#E5ECF6\", \"gridcolor\": \"white\", \"gridwidth\": 2, \"linecolor\": \"white\", \"showbackground\": true, \"ticks\": \"\", \"zerolinecolor\": \"white\"}, \"zaxis\": {\"backgroundcolor\": \"#E5ECF6\", \"gridcolor\": \"white\", \"gridwidth\": 2, \"linecolor\": \"white\", \"showbackground\": true, \"ticks\": \"\", \"zerolinecolor\": \"white\"}}, \"shapedefaults\": {\"line\": {\"color\": \"#2a3f5f\"}}, \"ternary\": {\"aaxis\": {\"gridcolor\": \"white\", \"linecolor\": \"white\", \"ticks\": \"\"}, \"baxis\": {\"gridcolor\": \"white\", \"linecolor\": \"white\", \"ticks\": \"\"}, \"bgcolor\": \"#E5ECF6\", \"caxis\": {\"gridcolor\": \"white\", \"linecolor\": \"white\", \"ticks\": \"\"}}, \"title\": {\"x\": 0.05}, \"xaxis\": {\"automargin\": true, \"gridcolor\": \"white\", \"linecolor\": \"white\", \"ticks\": \"\", \"title\": {\"standoff\": 15}, \"zerolinecolor\": \"white\", \"zerolinewidth\": 2}, \"yaxis\": {\"automargin\": true, \"gridcolor\": \"white\", \"linecolor\": \"white\", \"ticks\": \"\", \"title\": {\"standoff\": 15}, \"zerolinecolor\": \"white\", \"zerolinewidth\": 2}}}, \"title\": {\"text\": \"Bar Chart Showing Top 20 Cities With Highest Reviews.\"}},\n",
       "                        {\"responsive\": true}\n",
       "                    ).then(function(){\n",
       "                            \n",
       "var gd = document.getElementById('bda891b4-9363-45fd-8d44-edfb5fa4b40b');\n",
       "var x = new MutationObserver(function (mutations, observer) {{\n",
       "        var display = window.getComputedStyle(gd).display;\n",
       "        if (!display || display === 'none') {{\n",
       "            console.log([gd, 'removed!']);\n",
       "            Plotly.purge(gd);\n",
       "            observer.disconnect();\n",
       "        }}\n",
       "}});\n",
       "\n",
       "// Listen for the removal of the full notebook cells\n",
       "var notebookContainer = gd.closest('#notebook-container');\n",
       "if (notebookContainer) {{\n",
       "    x.observe(notebookContainer, {childList: true});\n",
       "}}\n",
       "\n",
       "// Listen for the clearing of the current output cell\n",
       "var outputEl = gd.closest('.output');\n",
       "if (outputEl) {{\n",
       "    x.observe(outputEl, {childList: true});\n",
       "}}\n",
       "\n",
       "                        })\n",
       "                };\n",
       "                });\n",
       "            </script>\n",
       "        </div>"
      ]
     },
     "metadata": {},
     "output_type": "display_data"
    }
   ],
   "source": [
    "q3 = df['city'].value_counts()[:20]\n",
    "trace = go.Bar(\n",
    "    x=q3.index,\n",
    "    y=q3.values,\n",
    "    marker=dict(\n",
    "        color='rgb(158,202,225)',\n",
    "        line=dict(\n",
    "            color='rgb(8,48,107)',\n",
    "            width=1.5,\n",
    "        )\n",
    "    ),    \n",
    "    opacity=0.6\n",
    ")\n",
    "\n",
    "data = [trace]\n",
    "\n",
    "layout = go.Layout(\n",
    "    title='Bar Chart Showing Top 20 Cities With Highest Reviews.',\n",
    ")\n",
    "\n",
    "fig = go.Figure(data=data, layout=layout)\n",
    "py.iplot(fig, filename='hotel-reviews-highest-cities')"
   ]
  },
  {
   "cell_type": "code",
   "execution_count": 11,
   "metadata": {
    "_uuid": "1b0354e6ee4d3e9ee515860c84994de014ddbabd"
   },
   "outputs": [
    {
     "data": {
      "application/vnd.plotly.v1+json": {
       "config": {
        "linkText": "Export to plot.ly",
        "plotlyServerURL": "https://plot.ly",
        "showLink": false
       },
       "data": [
        {
         "mode": "markers",
         "type": "scatter",
         "x": [
          2.625,
          4.571428571428571,
          3.329192546583851,
          3.574074074074074,
          3.75,
          1,
          4.619047619047619,
          3.2,
          2.6346153846153846,
          2.2,
          2.4545454545454546,
          2.7295373665480427,
          3.6923076923076925,
          2.6153846153846154,
          3.3727272727272726,
          3.225806451612903,
          4.258064516129032,
          4.75,
          4.74468085106383,
          3.75,
          4.3330909090909095,
          3.875,
          3.9473684210526314,
          1.3333333333333333,
          4.475,
          3.126315789473684,
          5,
          4.8,
          4.7,
          1,
          2.6470588235294117,
          4.125,
          4.416666666666667,
          4.909090909090909,
          4.028169014084507,
          2.855421686746988,
          3.9565217391304346,
          4.157894736842105,
          4.285714285714286,
          4.181818181818182,
          3.5454545454545454,
          4.8,
          4.54054054054054,
          4.157894736842105,
          3.960526315789474,
          4.2835820895522385,
          3.6073529411764707,
          4.081967213114754,
          3.923076923076923,
          3.6666666666666665,
          3.466666666666667,
          4.265625,
          4.318181818181818,
          4.118918918918919,
          3.7142857142857144,
          4.090909090909091,
          3.7355371900826446,
          3.679104477611939,
          5,
          4,
          4.036363636363636,
          4.315789473684211,
          3.6624605678233437,
          3.925,
          4.705882352941177,
          4.846153846153846,
          3.6,
          2.5833333333333335,
          2,
          3.5,
          1,
          4.583333333333333,
          3.5454545454545454,
          4.909090909090909,
          3.6363636363636362,
          3.5714285714285716,
          1,
          1,
          1,
          4.424242424242424,
          2.3333333333333335,
          3.3404255319148937,
          3.3404255319148937,
          8.241666666666665,
          4.104477611940299,
          4.304347826086956,
          4.45945945945946,
          4.78125,
          3.909090909090909,
          3.2916666666666665,
          3.1818181818181817,
          3.9263157894736844,
          3.5692307692307694,
          3.888888888888889,
          3.9849624060150375,
          4.4,
          2.9305555555555554,
          4.0754716981132075,
          3.2,
          3.3,
          4.490566037735849,
          4.7025316455696204,
          4.338461538461539,
          3,
          0,
          4,
          3.5357142857142856,
          4.005208333333333,
          3.55,
          3.8333333333333335,
          3.452054794520548,
          4.383333333333334,
          4.2272727272727275,
          4.095890410958904,
          3.683333333333333,
          3.3461538461538463,
          4.142857142857143,
          4.095238095238095,
          3.419148936170212,
          3.9466257668711653,
          4.25,
          4.7,
          3.857142857142857,
          0,
          3.918032786885246,
          5,
          3.9661016949152543,
          4,
          4.475,
          3.611111111111111,
          4.047058823529412,
          3.9885057471264367,
          4.3061224489795915,
          4,
          4,
          4.235294117647059,
          4,
          4.205882352941177,
          4.1571428571428575,
          3.6785714285714284,
          3.727272727272727,
          4.7,
          4.416666666666667,
          2.380952380952381,
          1,
          4.372549019607843,
          4.041666666666667,
          2.676470588235294,
          3.581818181818182,
          3.2,
          3.411764705882353,
          1.7352941176470589,
          3.7719298245614037,
          2.5849056603773586,
          2.967741935483871,
          2.914285714285714,
          3.3333333333333335,
          4.035714285714286,
          3.347826086956522,
          2.810526315789474,
          2,
          3.1666666666666665,
          2.240740740740741,
          3.773913043478261,
          3.3,
          2.027027027027027,
          5,
          2.111111111111111,
          2.4864864864864864,
          4.153284671532846,
          3.3636363636363638,
          3.6444444444444444,
          4.436123348017621,
          4.166666666666667,
          4.6,
          4.54,
          2.8533333333333335,
          4.590909090909091,
          4.065789473684211,
          3.1228070175438596,
          3.792207792207792,
          3.0454545454545454,
          1.96875,
          2.0714285714285716,
          2.6,
          4.314285714285714,
          3.945945945945946,
          3.727272727272727,
          4.706896551724138,
          4.345454545454546,
          5,
          5,
          4.230769230769231,
          4.875,
          2.6666666666666665,
          2.8095238095238093,
          3.445945945945946,
          2.96,
          3.3118279569892475,
          3.1846153846153844,
          3.6619718309859155,
          1,
          2.9821428571428568,
          2.4242424242424243,
          3.7228915662650603,
          0,
          4.111111111111111,
          4.111111111111111,
          4.369047619047619,
          4.15625,
          3.473684210526316,
          4.326086956521739,
          4.298245614035087,
          5,
          3.5454545454545454,
          4.4035087719298245,
          4.410958904109589,
          1.4542124542124542,
          0,
          3.1690140845070425,
          3.8333333333333335,
          3.857142857142857,
          4.814814814814815,
          5,
          3.9375,
          4.0588235294117645,
          4.704672897196262,
          4.75,
          4.6482558139534875,
          3.450381679389313,
          4,
          3.34375,
          4.7,
          4.611940298507463,
          3.4642857142857144,
          2,
          2.6,
          4.423076923076923,
          2.44,
          5,
          4.669902912621359,
          4.428571428571429,
          4.36,
          4.147540983606557,
          4.44,
          4,
          4.052631578947368,
          3.9210526315789473,
          4.066666666666666,
          4.626865671641791,
          4.583333333333333,
          4.839130434782609,
          3.682634730538922,
          4.2,
          4.326086956521739,
          5.419601328903652,
          3.9064327485380117,
          3.314814814814815,
          3.929411764705882,
          2.388888888888889,
          3,
          3.75,
          4.173333333333334,
          4.095238095238095,
          3.95,
          3.8947368421052633,
          4.224137931034483,
          4.325,
          3.9885057471264367,
          4.235294117647059,
          3.875,
          3.9342105263157894,
          3.727272727272727,
          4.185185185185185,
          3.5142857142857142,
          4.35064935064935,
          4.315789473684211,
          3.5543478260869565,
          5,
          3.807017543859649,
          4.2592592592592595,
          3.244186046511628,
          4.03,
          4.261904761904762,
          4.5,
          4.169491525423729,
          3.5,
          4.4,
          3.590909090909091,
          3.9373626373626407,
          3.8289473684210527,
          4.385714285714286,
          3.803030303030303,
          4.405405405405405,
          5.284716157205242,
          4.1,
          4.271523178807947,
          4.188679245283019,
          4.1688311688311686,
          3.843137254901961,
          3.1818181818181817,
          4,
          4.042253521126761,
          3.1538461538461537,
          4.293103448275862,
          4.204081632653061,
          4.468181818181819,
          4.35,
          4.267857142857143,
          3.9473684210526314,
          3.9583333333333335,
          4.125,
          3.765625,
          4.717391304347826,
          2.5,
          4.596774193548387,
          3.828270042194093,
          4.3538461538461535,
          3.8666666666666667,
          3.027027027027027,
          4.3076923076923075,
          4.60655737704918,
          4,
          4.6,
          3.76271186440678,
          4.061538461538461,
          3.5652173913043477,
          3.7241379310344827,
          4.052631578947368,
          4.385542168674699,
          4.319796954314721,
          4.03921568627451,
          3.918918918918919,
          4.333333333333333,
          2.7605042016806722,
          3.3209876543209877,
          4.4,
          4.271604938271605,
          4.206896551724138,
          4.2631578947368425,
          3.6666666666666665,
          4.442857142857143,
          8.354385964912282,
          4.285714285714286,
          3.625,
          4.285714285714286,
          3.838709677419355,
          0,
          4.491525423728813,
          3.089655172413793,
          4.163934426229508,
          5,
          3.6551724137931036,
          2,
          2.25,
          4.52,
          4.068622448979589,
          3.5492424242424243,
          3,
          4.363636363636363,
          2.3559322033898304,
          3.1,
          5,
          3,
          2.142857142857143,
          1.619047619047619,
          3.234567901234568,
          3.107142857142857,
          1,
          4,
          0.5,
          3.3333333333333335,
          4.333333333333333,
          4.739130434782608,
          4.077922077922078,
          3.4935897435897436,
          4.104651162790698,
          4.151515151515151,
          3.504950495049505,
          3.5652173913043477,
          3.338582677165354,
          3.608433734939759,
          3.8378378378378377,
          5,
          4.0476190476190474,
          4.5,
          4.409836065573771,
          4.185567010309279,
          1.5,
          4,
          1,
          4.619047619047619,
          4.428571428571429,
          1.3333333333333333,
          4.923076923076923,
          4.777777777777778,
          3,
          4.72289156626506,
          0,
          4.466666666666667,
          4,
          4.214285714285714,
          4.214285714285714,
          4.076923076923077,
          1,
          3.5764705882352943,
          4.8,
          3.9814814814814814,
          4,
          4.181818181818182,
          4.133333333333334,
          5,
          2.8415841584158414,
          3.625,
          4.113636363636363,
          3.2972972972972974,
          5,
          4.264705882352941,
          2.9714285714285715,
          4.285714285714286,
          2.7974683544303796,
          3.4615384615384617,
          2.45,
          2.2,
          4.343283582089552,
          4.806451612903226,
          4.375,
          3.7,
          3.2780269058295963,
          4.553846153846154,
          4.142857142857143,
          1.4461538461538461,
          4,
          5,
          4.75,
          4.117647058823529,
          2,
          3.5445544554455446,
          2.5,
          3.7,
          2.4,
          3.4,
          4,
          8.368932038834954,
          3.75,
          1,
          3,
          3.2249134948096887,
          4.9523809523809526,
          3.0952380952380953,
          3.6750000000000003,
          4.7727272727272725,
          3.966666666666667,
          4.3125,
          3.0225563909774436,
          3.2711864406779663,
          3.3,
          3.0476190476190474,
          3.6984126984126986,
          2.8131868131868134,
          3.577777777777778,
          4.1063829787234045,
          2.9836065573770494,
          3.84,
          3.9285714285714284,
          3.191666666666667,
          3.8260869565217392,
          4.157894736842105,
          3.690909090909091,
          3.5,
          3.8333333333333335,
          3.8088235294117645,
          1,
          3.642857142857143,
          4.8,
          3,
          4.615384615384615,
          2.933333333333333,
          3.3333333333333335,
          3.142857142857143,
          2.177570093457944,
          4.189300411522634,
          3.9239130434782608,
          0,
          4.358974358974359,
          4.5,
          4.016949152542373,
          4.363636363636363,
          4.549019607843137,
          4.351063829787234,
          4.407407407407407,
          4.75,
          3.1548387096774193,
          4,
          4.3,
          5,
          3.1818181818181817,
          3.8333333333333335,
          1,
          3.5,
          2,
          5,
          4,
          4.0285714285714285,
          4,
          4.1875,
          3.8333333333333335,
          5,
          4.746031746031746,
          3.5,
          1,
          3.7333333333333334,
          3.685185185185185,
          2.7982456140350878,
          2.6372549019607843,
          3.8,
          5,
          5,
          3.214193548387097,
          3.6666666666666665,
          4.061728395061729,
          4.5,
          3.7538461538461525,
          4.464285714285714,
          1.2,
          3.473684210526316,
          2.25,
          4.483870967741935,
          4.1,
          2.3846153846153846,
          2.5,
          3.7681159420289854,
          2.109375,
          3.90625,
          3,
          2.6875,
          3.3875,
          3.4193548387096775,
          2.7096774193548385,
          5,
          3.75,
          1.9545454545454546,
          3.75,
          3.2162162162162162,
          2.789473684210526,
          3.0789473684210527,
          3.4157303370786516,
          3.111111111111111,
          3.515151515151515,
          3.3636363636363638,
          2.492957746478873,
          3.4782608695652173,
          2.9444444444444446,
          3.8,
          3.283582089552239,
          3.5454545454545454,
          3.6,
          2.8333333333333335,
          2.8333333333333335,
          3.2738095238095237,
          2.36,
          5,
          4.755102040816326,
          4.480168776371308,
          4.181818181818182,
          4.076923076923077,
          4.945833333333334,
          2.1666666666666665,
          3.7083333333333335,
          4,
          4.640625,
          4.775,
          5,
          3.3035714285714284,
          4.104166666666667,
          4.1,
          0,
          5,
          3.306122448979592,
          4.75,
          4.362745098039215,
          4.188679245283019,
          4.236363636363636,
          3,
          3.3777777777777778,
          3.9473684210526314,
          3.975609756097561,
          1,
          2.858156028368794,
          2.9,
          2,
          3.963636363636364,
          4.1875,
          3.380952380952381,
          3.404255319148936,
          4,
          2.4444444444444446,
          4,
          1.5714285714285714,
          5,
          4.9,
          3.8461538461538463,
          0.5,
          3.445945945945946,
          3.704225352112676,
          4.478260869565218,
          3.1549295774647885,
          4,
          4.8,
          0,
          3.992481203007519,
          4.2894736842105265,
          4.390243902439025,
          4.433333333333334,
          4.285714285714286,
          3.9285714285714284,
          4.05,
          1
         ],
         "y": [
          16,
          14,
          161,
          54,
          20,
          1,
          21,
          5,
          104,
          10,
          66,
          562,
          78,
          52,
          110,
          31,
          31,
          16,
          47,
          32,
          275,
          72,
          19,
          3,
          40,
          95,
          11,
          10,
          20,
          1,
          17,
          16,
          24,
          11,
          71,
          83,
          46,
          152,
          70,
          11,
          11,
          10,
          37,
          19,
          76,
          67,
          136,
          61,
          78,
          3,
          15,
          64,
          22,
          185,
          21,
          121,
          121,
          335,
          4,
          44,
          55,
          38,
          317,
          40,
          17,
          26,
          10,
          12,
          4,
          2,
          2,
          12,
          11,
          22,
          11,
          14,
          1,
          1,
          1,
          66,
          3,
          47,
          94,
          84,
          67,
          23,
          37,
          64,
          11,
          24,
          11,
          95,
          65,
          9,
          133,
          85,
          72,
          53,
          10,
          10,
          53,
          158,
          13,
          1,
          1,
          1,
          56,
          192,
          20,
          84,
          73,
          60,
          22,
          73,
          60,
          52,
          126,
          63,
          47,
          326,
          60,
          10,
          21,
          3,
          61,
          10,
          59,
          40,
          80,
          54,
          85,
          87,
          147,
          1,
          10,
          68,
          1,
          68,
          70,
          28,
          11,
          10,
          12,
          63,
          1,
          51,
          24,
          102,
          55,
          5,
          17,
          34,
          57,
          53,
          31,
          70,
          6,
          28,
          69,
          19,
          1,
          60,
          54,
          115,
          80,
          111,
          1,
          9,
          74,
          137,
          11,
          45,
          227,
          276,
          35,
          200,
          75,
          22,
          76,
          57,
          77,
          22,
          32,
          14,
          10,
          35,
          37,
          11,
          58,
          165,
          10,
          1,
          13,
          64,
          3,
          63,
          74,
          75,
          93,
          65,
          71,
          2,
          28,
          66,
          83,
          3,
          27,
          63,
          84,
          32,
          19,
          46,
          57,
          1,
          11,
          57,
          73,
          546,
          3,
          71,
          12,
          7,
          27,
          1,
          16,
          17,
          107,
          4,
          172,
          131,
          2,
          160,
          10,
          67,
          56,
          10,
          10,
          78,
          25,
          1,
          103,
          21,
          100,
          122,
          50,
          78,
          95,
          38,
          60,
          67,
          12,
          23,
          167,
          10,
          184,
          301,
          171,
          108,
          85,
          54,
          1,
          20,
          15,
          63,
          20,
          38,
          58,
          40,
          87,
          51,
          8,
          76,
          33,
          54,
          35,
          77,
          19,
          92,
          1,
          114,
          54,
          86,
          100,
          42,
          12,
          59,
          2,
          10,
          88,
          182,
          76,
          70,
          66,
          74,
          229,
          10,
          151,
          53,
          77,
          153,
          11,
          2,
          71,
          13,
          58,
          49,
          44,
          20,
          56,
          57,
          96,
          40,
          64,
          46,
          2,
          62,
          237,
          65,
          60,
          37,
          26,
          61,
          23,
          10,
          59,
          65,
          69,
          58,
          57,
          83,
          197,
          51,
          37,
          3,
          714,
          81,
          10,
          81,
          145,
          95,
          108,
          70,
          57,
          35,
          8,
          49,
          62,
          2,
          59,
          116,
          61,
          1,
          58,
          7,
          4,
          50,
          392,
          264,
          10,
          11,
          59,
          10,
          1,
          1,
          35,
          21,
          81,
          56,
          3,
          1,
          2,
          3,
          48,
          69,
          77,
          156,
          86,
          66,
          101,
          69,
          127,
          166,
          74,
          8,
          21,
          2,
          122,
          97,
          2,
          30,
          3,
          21,
          7,
          3,
          13,
          18,
          1,
          83,
          3,
          15,
          4,
          56,
          28,
          13,
          2,
          85,
          10,
          54,
          9,
          55,
          60,
          2,
          101,
          8,
          44,
          74,
          2,
          34,
          70,
          7,
          79,
          13,
          20,
          10,
          201,
          31,
          16,
          10,
          223,
          13,
          14,
          65,
          2,
          2,
          4,
          17,
          2,
          101,
          2,
          80,
          2,
          10,
          11,
          103,
          4,
          1,
          5,
          289,
          21,
          21,
          4,
          22,
          120,
          16,
          133,
          59,
          20,
          63,
          63,
          91,
          45,
          47,
          183,
          75,
          56,
          120,
          69,
          57,
          55,
          2,
          12,
          68,
          3,
          84,
          10,
          3,
          13,
          15,
          3,
          56,
          107,
          243,
          92,
          1,
          39,
          20,
          59,
          88,
          51,
          94,
          54,
          24,
          31,
          4,
          10,
          1,
          11,
          24,
          1,
          4,
          4,
          1,
          6,
          35,
          7,
          16,
          54,
          13,
          126,
          6,
          1,
          75,
          54,
          114,
          102,
          10,
          1,
          1,
          155,
          30,
          81,
          26,
          39,
          28,
          5,
          19,
          24,
          31,
          10,
          13,
          16,
          69,
          64,
          32,
          69,
          64,
          80,
          31,
          62,
          2,
          20,
          22,
          16,
          37,
          57,
          76,
          89,
          18,
          66,
          77,
          71,
          46,
          36,
          50,
          67,
          88,
          20,
          6,
          54,
          84,
          50,
          4,
          49,
          1185,
          11,
          26,
          48,
          12,
          24,
          14,
          64,
          40,
          27,
          56,
          48,
          10,
          12,
          1,
          49,
          12,
          102,
          53,
          55,
          1,
          180,
          19,
          123,
          1,
          141,
          20,
          13,
          55,
          32,
          21,
          47,
          11,
          9,
          50,
          7,
          4,
          50,
          13,
          2,
          74,
          71,
          23,
          71,
          2,
          10,
          1,
          133,
          76,
          41,
          120,
          7,
          14,
          20,
          1
         ]
        }
       ],
       "layout": {
        "template": {
         "data": {
          "bar": [
           {
            "error_x": {
             "color": "#2a3f5f"
            },
            "error_y": {
             "color": "#2a3f5f"
            },
            "marker": {
             "line": {
              "color": "#E5ECF6",
              "width": 0.5
             }
            },
            "type": "bar"
           }
          ],
          "barpolar": [
           {
            "marker": {
             "line": {
              "color": "#E5ECF6",
              "width": 0.5
             }
            },
            "type": "barpolar"
           }
          ],
          "carpet": [
           {
            "aaxis": {
             "endlinecolor": "#2a3f5f",
             "gridcolor": "white",
             "linecolor": "white",
             "minorgridcolor": "white",
             "startlinecolor": "#2a3f5f"
            },
            "baxis": {
             "endlinecolor": "#2a3f5f",
             "gridcolor": "white",
             "linecolor": "white",
             "minorgridcolor": "white",
             "startlinecolor": "#2a3f5f"
            },
            "type": "carpet"
           }
          ],
          "choropleth": [
           {
            "colorbar": {
             "outlinewidth": 0,
             "ticks": ""
            },
            "type": "choropleth"
           }
          ],
          "contour": [
           {
            "colorbar": {
             "outlinewidth": 0,
             "ticks": ""
            },
            "colorscale": [
             [
              0,
              "#0d0887"
             ],
             [
              0.1111111111111111,
              "#46039f"
             ],
             [
              0.2222222222222222,
              "#7201a8"
             ],
             [
              0.3333333333333333,
              "#9c179e"
             ],
             [
              0.4444444444444444,
              "#bd3786"
             ],
             [
              0.5555555555555556,
              "#d8576b"
             ],
             [
              0.6666666666666666,
              "#ed7953"
             ],
             [
              0.7777777777777778,
              "#fb9f3a"
             ],
             [
              0.8888888888888888,
              "#fdca26"
             ],
             [
              1,
              "#f0f921"
             ]
            ],
            "type": "contour"
           }
          ],
          "contourcarpet": [
           {
            "colorbar": {
             "outlinewidth": 0,
             "ticks": ""
            },
            "type": "contourcarpet"
           }
          ],
          "heatmap": [
           {
            "colorbar": {
             "outlinewidth": 0,
             "ticks": ""
            },
            "colorscale": [
             [
              0,
              "#0d0887"
             ],
             [
              0.1111111111111111,
              "#46039f"
             ],
             [
              0.2222222222222222,
              "#7201a8"
             ],
             [
              0.3333333333333333,
              "#9c179e"
             ],
             [
              0.4444444444444444,
              "#bd3786"
             ],
             [
              0.5555555555555556,
              "#d8576b"
             ],
             [
              0.6666666666666666,
              "#ed7953"
             ],
             [
              0.7777777777777778,
              "#fb9f3a"
             ],
             [
              0.8888888888888888,
              "#fdca26"
             ],
             [
              1,
              "#f0f921"
             ]
            ],
            "type": "heatmap"
           }
          ],
          "heatmapgl": [
           {
            "colorbar": {
             "outlinewidth": 0,
             "ticks": ""
            },
            "colorscale": [
             [
              0,
              "#0d0887"
             ],
             [
              0.1111111111111111,
              "#46039f"
             ],
             [
              0.2222222222222222,
              "#7201a8"
             ],
             [
              0.3333333333333333,
              "#9c179e"
             ],
             [
              0.4444444444444444,
              "#bd3786"
             ],
             [
              0.5555555555555556,
              "#d8576b"
             ],
             [
              0.6666666666666666,
              "#ed7953"
             ],
             [
              0.7777777777777778,
              "#fb9f3a"
             ],
             [
              0.8888888888888888,
              "#fdca26"
             ],
             [
              1,
              "#f0f921"
             ]
            ],
            "type": "heatmapgl"
           }
          ],
          "histogram": [
           {
            "marker": {
             "colorbar": {
              "outlinewidth": 0,
              "ticks": ""
             }
            },
            "type": "histogram"
           }
          ],
          "histogram2d": [
           {
            "colorbar": {
             "outlinewidth": 0,
             "ticks": ""
            },
            "colorscale": [
             [
              0,
              "#0d0887"
             ],
             [
              0.1111111111111111,
              "#46039f"
             ],
             [
              0.2222222222222222,
              "#7201a8"
             ],
             [
              0.3333333333333333,
              "#9c179e"
             ],
             [
              0.4444444444444444,
              "#bd3786"
             ],
             [
              0.5555555555555556,
              "#d8576b"
             ],
             [
              0.6666666666666666,
              "#ed7953"
             ],
             [
              0.7777777777777778,
              "#fb9f3a"
             ],
             [
              0.8888888888888888,
              "#fdca26"
             ],
             [
              1,
              "#f0f921"
             ]
            ],
            "type": "histogram2d"
           }
          ],
          "histogram2dcontour": [
           {
            "colorbar": {
             "outlinewidth": 0,
             "ticks": ""
            },
            "colorscale": [
             [
              0,
              "#0d0887"
             ],
             [
              0.1111111111111111,
              "#46039f"
             ],
             [
              0.2222222222222222,
              "#7201a8"
             ],
             [
              0.3333333333333333,
              "#9c179e"
             ],
             [
              0.4444444444444444,
              "#bd3786"
             ],
             [
              0.5555555555555556,
              "#d8576b"
             ],
             [
              0.6666666666666666,
              "#ed7953"
             ],
             [
              0.7777777777777778,
              "#fb9f3a"
             ],
             [
              0.8888888888888888,
              "#fdca26"
             ],
             [
              1,
              "#f0f921"
             ]
            ],
            "type": "histogram2dcontour"
           }
          ],
          "mesh3d": [
           {
            "colorbar": {
             "outlinewidth": 0,
             "ticks": ""
            },
            "type": "mesh3d"
           }
          ],
          "parcoords": [
           {
            "line": {
             "colorbar": {
              "outlinewidth": 0,
              "ticks": ""
             }
            },
            "type": "parcoords"
           }
          ],
          "pie": [
           {
            "automargin": true,
            "type": "pie"
           }
          ],
          "scatter": [
           {
            "marker": {
             "colorbar": {
              "outlinewidth": 0,
              "ticks": ""
             }
            },
            "type": "scatter"
           }
          ],
          "scatter3d": [
           {
            "line": {
             "colorbar": {
              "outlinewidth": 0,
              "ticks": ""
             }
            },
            "marker": {
             "colorbar": {
              "outlinewidth": 0,
              "ticks": ""
             }
            },
            "type": "scatter3d"
           }
          ],
          "scattercarpet": [
           {
            "marker": {
             "colorbar": {
              "outlinewidth": 0,
              "ticks": ""
             }
            },
            "type": "scattercarpet"
           }
          ],
          "scattergeo": [
           {
            "marker": {
             "colorbar": {
              "outlinewidth": 0,
              "ticks": ""
             }
            },
            "type": "scattergeo"
           }
          ],
          "scattergl": [
           {
            "marker": {
             "colorbar": {
              "outlinewidth": 0,
              "ticks": ""
             }
            },
            "type": "scattergl"
           }
          ],
          "scattermapbox": [
           {
            "marker": {
             "colorbar": {
              "outlinewidth": 0,
              "ticks": ""
             }
            },
            "type": "scattermapbox"
           }
          ],
          "scatterpolar": [
           {
            "marker": {
             "colorbar": {
              "outlinewidth": 0,
              "ticks": ""
             }
            },
            "type": "scatterpolar"
           }
          ],
          "scatterpolargl": [
           {
            "marker": {
             "colorbar": {
              "outlinewidth": 0,
              "ticks": ""
             }
            },
            "type": "scatterpolargl"
           }
          ],
          "scatterternary": [
           {
            "marker": {
             "colorbar": {
              "outlinewidth": 0,
              "ticks": ""
             }
            },
            "type": "scatterternary"
           }
          ],
          "surface": [
           {
            "colorbar": {
             "outlinewidth": 0,
             "ticks": ""
            },
            "colorscale": [
             [
              0,
              "#0d0887"
             ],
             [
              0.1111111111111111,
              "#46039f"
             ],
             [
              0.2222222222222222,
              "#7201a8"
             ],
             [
              0.3333333333333333,
              "#9c179e"
             ],
             [
              0.4444444444444444,
              "#bd3786"
             ],
             [
              0.5555555555555556,
              "#d8576b"
             ],
             [
              0.6666666666666666,
              "#ed7953"
             ],
             [
              0.7777777777777778,
              "#fb9f3a"
             ],
             [
              0.8888888888888888,
              "#fdca26"
             ],
             [
              1,
              "#f0f921"
             ]
            ],
            "type": "surface"
           }
          ],
          "table": [
           {
            "cells": {
             "fill": {
              "color": "#EBF0F8"
             },
             "line": {
              "color": "white"
             }
            },
            "header": {
             "fill": {
              "color": "#C8D4E3"
             },
             "line": {
              "color": "white"
             }
            },
            "type": "table"
           }
          ]
         },
         "layout": {
          "annotationdefaults": {
           "arrowcolor": "#2a3f5f",
           "arrowhead": 0,
           "arrowwidth": 1
          },
          "coloraxis": {
           "colorbar": {
            "outlinewidth": 0,
            "ticks": ""
           }
          },
          "colorscale": {
           "diverging": [
            [
             0,
             "#8e0152"
            ],
            [
             0.1,
             "#c51b7d"
            ],
            [
             0.2,
             "#de77ae"
            ],
            [
             0.3,
             "#f1b6da"
            ],
            [
             0.4,
             "#fde0ef"
            ],
            [
             0.5,
             "#f7f7f7"
            ],
            [
             0.6,
             "#e6f5d0"
            ],
            [
             0.7,
             "#b8e186"
            ],
            [
             0.8,
             "#7fbc41"
            ],
            [
             0.9,
             "#4d9221"
            ],
            [
             1,
             "#276419"
            ]
           ],
           "sequential": [
            [
             0,
             "#0d0887"
            ],
            [
             0.1111111111111111,
             "#46039f"
            ],
            [
             0.2222222222222222,
             "#7201a8"
            ],
            [
             0.3333333333333333,
             "#9c179e"
            ],
            [
             0.4444444444444444,
             "#bd3786"
            ],
            [
             0.5555555555555556,
             "#d8576b"
            ],
            [
             0.6666666666666666,
             "#ed7953"
            ],
            [
             0.7777777777777778,
             "#fb9f3a"
            ],
            [
             0.8888888888888888,
             "#fdca26"
            ],
            [
             1,
             "#f0f921"
            ]
           ],
           "sequentialminus": [
            [
             0,
             "#0d0887"
            ],
            [
             0.1111111111111111,
             "#46039f"
            ],
            [
             0.2222222222222222,
             "#7201a8"
            ],
            [
             0.3333333333333333,
             "#9c179e"
            ],
            [
             0.4444444444444444,
             "#bd3786"
            ],
            [
             0.5555555555555556,
             "#d8576b"
            ],
            [
             0.6666666666666666,
             "#ed7953"
            ],
            [
             0.7777777777777778,
             "#fb9f3a"
            ],
            [
             0.8888888888888888,
             "#fdca26"
            ],
            [
             1,
             "#f0f921"
            ]
           ]
          },
          "colorway": [
           "#636efa",
           "#EF553B",
           "#00cc96",
           "#ab63fa",
           "#FFA15A",
           "#19d3f3",
           "#FF6692",
           "#B6E880",
           "#FF97FF",
           "#FECB52"
          ],
          "font": {
           "color": "#2a3f5f"
          },
          "geo": {
           "bgcolor": "white",
           "lakecolor": "white",
           "landcolor": "#E5ECF6",
           "showlakes": true,
           "showland": true,
           "subunitcolor": "white"
          },
          "hoverlabel": {
           "align": "left"
          },
          "hovermode": "closest",
          "mapbox": {
           "style": "light"
          },
          "paper_bgcolor": "white",
          "plot_bgcolor": "#E5ECF6",
          "polar": {
           "angularaxis": {
            "gridcolor": "white",
            "linecolor": "white",
            "ticks": ""
           },
           "bgcolor": "#E5ECF6",
           "radialaxis": {
            "gridcolor": "white",
            "linecolor": "white",
            "ticks": ""
           }
          },
          "scene": {
           "xaxis": {
            "backgroundcolor": "#E5ECF6",
            "gridcolor": "white",
            "gridwidth": 2,
            "linecolor": "white",
            "showbackground": true,
            "ticks": "",
            "zerolinecolor": "white"
           },
           "yaxis": {
            "backgroundcolor": "#E5ECF6",
            "gridcolor": "white",
            "gridwidth": 2,
            "linecolor": "white",
            "showbackground": true,
            "ticks": "",
            "zerolinecolor": "white"
           },
           "zaxis": {
            "backgroundcolor": "#E5ECF6",
            "gridcolor": "white",
            "gridwidth": 2,
            "linecolor": "white",
            "showbackground": true,
            "ticks": "",
            "zerolinecolor": "white"
           }
          },
          "shapedefaults": {
           "line": {
            "color": "#2a3f5f"
           }
          },
          "ternary": {
           "aaxis": {
            "gridcolor": "white",
            "linecolor": "white",
            "ticks": ""
           },
           "baxis": {
            "gridcolor": "white",
            "linecolor": "white",
            "ticks": ""
           },
           "bgcolor": "#E5ECF6",
           "caxis": {
            "gridcolor": "white",
            "linecolor": "white",
            "ticks": ""
           }
          },
          "title": {
           "x": 0.05
          },
          "xaxis": {
           "automargin": true,
           "gridcolor": "white",
           "linecolor": "white",
           "ticks": "",
           "title": {
            "standoff": 15
           },
           "zerolinecolor": "white",
           "zerolinewidth": 2
          },
          "yaxis": {
           "automargin": true,
           "gridcolor": "white",
           "linecolor": "white",
           "ticks": "",
           "title": {
            "standoff": 15
           },
           "zerolinecolor": "white",
           "zerolinewidth": 2
          }
         }
        },
        "title": {
         "text": "Diagram Showing The Relationship Between Ratings & Number Of Reviews."
        }
       }
      },
      "text/html": [
       "<div>\n",
       "        \n",
       "        \n",
       "            <div id=\"be335b97-a9c1-4dc3-bf04-d27582ab25d2\" class=\"plotly-graph-div\" style=\"height:525px; width:100%;\"></div>\n",
       "            <script type=\"text/javascript\">\n",
       "                require([\"plotly\"], function(Plotly) {\n",
       "                    window.PLOTLYENV=window.PLOTLYENV || {};\n",
       "                    \n",
       "                if (document.getElementById(\"be335b97-a9c1-4dc3-bf04-d27582ab25d2\")) {\n",
       "                    Plotly.newPlot(\n",
       "                        'be335b97-a9c1-4dc3-bf04-d27582ab25d2',\n",
       "                        [{\"mode\": \"markers\", \"type\": \"scatter\", \"x\": [2.625, 4.571428571428571, 3.329192546583851, 3.574074074074074, 3.75, 1.0, 4.619047619047619, 3.2, 2.6346153846153846, 2.2, 2.4545454545454546, 2.7295373665480427, 3.6923076923076925, 2.6153846153846154, 3.3727272727272726, 3.225806451612903, 4.258064516129032, 4.75, 4.74468085106383, 3.75, 4.3330909090909095, 3.875, 3.9473684210526314, 1.3333333333333333, 4.475, 3.126315789473684, 5.0, 4.8, 4.7, 1.0, 2.6470588235294117, 4.125, 4.416666666666667, 4.909090909090909, 4.028169014084507, 2.855421686746988, 3.9565217391304346, 4.157894736842105, 4.285714285714286, 4.181818181818182, 3.5454545454545454, 4.8, 4.54054054054054, 4.157894736842105, 3.960526315789474, 4.2835820895522385, 3.6073529411764707, 4.081967213114754, 3.923076923076923, 3.6666666666666665, 3.466666666666667, 4.265625, 4.318181818181818, 4.118918918918919, 3.7142857142857144, 4.090909090909091, 3.7355371900826446, 3.679104477611939, 5.0, 4.0, 4.036363636363636, 4.315789473684211, 3.6624605678233437, 3.925, 4.705882352941177, 4.846153846153846, 3.6, 2.5833333333333335, 2.0, 3.5, 1.0, 4.583333333333333, 3.5454545454545454, 4.909090909090909, 3.6363636363636362, 3.5714285714285716, 1.0, 1.0, 1.0, 4.424242424242424, 2.3333333333333335, 3.3404255319148937, 3.3404255319148937, 8.241666666666665, 4.104477611940299, 4.304347826086956, 4.45945945945946, 4.78125, 3.909090909090909, 3.2916666666666665, 3.1818181818181817, 3.9263157894736844, 3.5692307692307694, 3.888888888888889, 3.9849624060150375, 4.4, 2.9305555555555554, 4.0754716981132075, 3.2, 3.3, 4.490566037735849, 4.7025316455696204, 4.338461538461539, 3.0, 0.0, 4.0, 3.5357142857142856, 4.005208333333333, 3.55, 3.8333333333333335, 3.452054794520548, 4.383333333333334, 4.2272727272727275, 4.095890410958904, 3.683333333333333, 3.3461538461538463, 4.142857142857143, 4.095238095238095, 3.419148936170212, 3.9466257668711653, 4.25, 4.7, 3.857142857142857, 0.0, 3.918032786885246, 5.0, 3.9661016949152543, 4.0, 4.475, 3.611111111111111, 4.047058823529412, 3.9885057471264367, 4.3061224489795915, 4.0, 4.0, 4.235294117647059, 4.0, 4.205882352941177, 4.1571428571428575, 3.6785714285714284, 3.727272727272727, 4.7, 4.416666666666667, 2.380952380952381, 1.0, 4.372549019607843, 4.041666666666667, 2.676470588235294, 3.581818181818182, 3.2, 3.411764705882353, 1.7352941176470589, 3.7719298245614037, 2.5849056603773586, 2.967741935483871, 2.914285714285714, 3.3333333333333335, 4.035714285714286, 3.347826086956522, 2.810526315789474, 2.0, 3.1666666666666665, 2.240740740740741, 3.773913043478261, 3.3, 2.027027027027027, 5.0, 2.111111111111111, 2.4864864864864864, 4.153284671532846, 3.3636363636363638, 3.6444444444444444, 4.436123348017621, 4.166666666666667, 4.6, 4.54, 2.8533333333333335, 4.590909090909091, 4.065789473684211, 3.1228070175438596, 3.792207792207792, 3.0454545454545454, 1.96875, 2.0714285714285716, 2.6, 4.314285714285714, 3.945945945945946, 3.727272727272727, 4.706896551724138, 4.345454545454546, 5.0, 5.0, 4.230769230769231, 4.875, 2.6666666666666665, 2.8095238095238093, 3.445945945945946, 2.96, 3.3118279569892475, 3.1846153846153844, 3.6619718309859155, 1.0, 2.9821428571428568, 2.4242424242424243, 3.7228915662650603, 0.0, 4.111111111111111, 4.111111111111111, 4.369047619047619, 4.15625, 3.473684210526316, 4.326086956521739, 4.298245614035087, 5.0, 3.5454545454545454, 4.4035087719298245, 4.410958904109589, 1.4542124542124542, 0.0, 3.1690140845070425, 3.8333333333333335, 3.857142857142857, 4.814814814814815, 5.0, 3.9375, 4.0588235294117645, 4.704672897196262, 4.75, 4.6482558139534875, 3.450381679389313, 4.0, 3.34375, 4.7, 4.611940298507463, 3.4642857142857144, 2.0, 2.6, 4.423076923076923, 2.44, 5.0, 4.669902912621359, 4.428571428571429, 4.36, 4.147540983606557, 4.44, 4.0, 4.052631578947368, 3.9210526315789473, 4.066666666666666, 4.626865671641791, 4.583333333333333, 4.839130434782609, 3.682634730538922, 4.2, 4.326086956521739, 5.419601328903652, 3.9064327485380117, 3.314814814814815, 3.929411764705882, 2.388888888888889, 3.0, 3.75, 4.173333333333334, 4.095238095238095, 3.95, 3.8947368421052633, 4.224137931034483, 4.325, 3.9885057471264367, 4.235294117647059, 3.875, 3.9342105263157894, 3.727272727272727, 4.185185185185185, 3.5142857142857142, 4.35064935064935, 4.315789473684211, 3.5543478260869565, 5.0, 3.807017543859649, 4.2592592592592595, 3.244186046511628, 4.03, 4.261904761904762, 4.5, 4.169491525423729, 3.5, 4.4, 3.590909090909091, 3.9373626373626407, 3.8289473684210527, 4.385714285714286, 3.803030303030303, 4.405405405405405, 5.284716157205242, 4.1, 4.271523178807947, 4.188679245283019, 4.1688311688311686, 3.843137254901961, 3.1818181818181817, 4.0, 4.042253521126761, 3.1538461538461537, 4.293103448275862, 4.204081632653061, 4.468181818181819, 4.35, 4.267857142857143, 3.9473684210526314, 3.9583333333333335, 4.125, 3.765625, 4.717391304347826, 2.5, 4.596774193548387, 3.828270042194093, 4.3538461538461535, 3.8666666666666667, 3.027027027027027, 4.3076923076923075, 4.60655737704918, 4.0, 4.6, 3.76271186440678, 4.061538461538461, 3.5652173913043477, 3.7241379310344827, 4.052631578947368, 4.385542168674699, 4.319796954314721, 4.03921568627451, 3.918918918918919, 4.333333333333333, 2.7605042016806722, 3.3209876543209877, 4.4, 4.271604938271605, 4.206896551724138, 4.2631578947368425, 3.6666666666666665, 4.442857142857143, 8.354385964912282, 4.285714285714286, 3.625, 4.285714285714286, 3.838709677419355, 0.0, 4.491525423728813, 3.089655172413793, 4.163934426229508, 5.0, 3.6551724137931036, 2.0, 2.25, 4.52, 4.068622448979589, 3.5492424242424243, 3.0, 4.363636363636363, 2.3559322033898304, 3.1, 5.0, 3.0, 2.142857142857143, 1.619047619047619, 3.234567901234568, 3.107142857142857, 1.0, 4.0, 0.5, 3.3333333333333335, 4.333333333333333, 4.739130434782608, 4.077922077922078, 3.4935897435897436, 4.104651162790698, 4.151515151515151, 3.504950495049505, 3.5652173913043477, 3.338582677165354, 3.608433734939759, 3.8378378378378377, 5.0, 4.0476190476190474, 4.5, 4.409836065573771, 4.185567010309279, 1.5, 4.0, 1.0, 4.619047619047619, 4.428571428571429, 1.3333333333333333, 4.923076923076923, 4.777777777777778, 3.0, 4.72289156626506, 0.0, 4.466666666666667, 4.0, 4.214285714285714, 4.214285714285714, 4.076923076923077, 1.0, 3.5764705882352943, 4.8, 3.9814814814814814, 4.0, 4.181818181818182, 4.133333333333334, 5.0, 2.8415841584158414, 3.625, 4.113636363636363, 3.2972972972972974, 5.0, 4.264705882352941, 2.9714285714285715, 4.285714285714286, 2.7974683544303796, 3.4615384615384617, 2.45, 2.2, 4.343283582089552, 4.806451612903226, 4.375, 3.7, 3.2780269058295963, 4.553846153846154, 4.142857142857143, 1.4461538461538461, 4.0, 5.0, 4.75, 4.117647058823529, 2.0, 3.5445544554455446, 2.5, 3.7, 2.4, 3.4, 4.0, 8.368932038834954, 3.75, 1.0, 3.0, 3.2249134948096887, 4.9523809523809526, 3.0952380952380953, 3.6750000000000003, 4.7727272727272725, 3.966666666666667, 4.3125, 3.0225563909774436, 3.2711864406779663, 3.3, 3.0476190476190474, 3.6984126984126986, 2.8131868131868134, 3.577777777777778, 4.1063829787234045, 2.9836065573770494, 3.84, 3.9285714285714284, 3.191666666666667, 3.8260869565217392, 4.157894736842105, 3.690909090909091, 3.5, 3.8333333333333335, 3.8088235294117645, 1.0, 3.642857142857143, 4.8, 3.0, 4.615384615384615, 2.933333333333333, 3.3333333333333335, 3.142857142857143, 2.177570093457944, 4.189300411522634, 3.9239130434782608, 0.0, 4.358974358974359, 4.5, 4.016949152542373, 4.363636363636363, 4.549019607843137, 4.351063829787234, 4.407407407407407, 4.75, 3.1548387096774193, 4.0, 4.3, 5.0, 3.1818181818181817, 3.8333333333333335, 1.0, 3.5, 2.0, 5.0, 4.0, 4.0285714285714285, 4.0, 4.1875, 3.8333333333333335, 5.0, 4.746031746031746, 3.5, 1.0, 3.7333333333333334, 3.685185185185185, 2.7982456140350878, 2.6372549019607843, 3.8, 5.0, 5.0, 3.214193548387097, 3.6666666666666665, 4.061728395061729, 4.5, 3.7538461538461525, 4.464285714285714, 1.2, 3.473684210526316, 2.25, 4.483870967741935, 4.1, 2.3846153846153846, 2.5, 3.7681159420289854, 2.109375, 3.90625, 3.0, 2.6875, 3.3875, 3.4193548387096775, 2.7096774193548385, 5.0, 3.75, 1.9545454545454546, 3.75, 3.2162162162162162, 2.789473684210526, 3.0789473684210527, 3.4157303370786516, 3.111111111111111, 3.515151515151515, 3.3636363636363638, 2.492957746478873, 3.4782608695652173, 2.9444444444444446, 3.8, 3.283582089552239, 3.5454545454545454, 3.6, 2.8333333333333335, 2.8333333333333335, 3.2738095238095237, 2.36, 5.0, 4.755102040816326, 4.480168776371308, 4.181818181818182, 4.076923076923077, 4.945833333333334, 2.1666666666666665, 3.7083333333333335, 4.0, 4.640625, 4.775, 5.0, 3.3035714285714284, 4.104166666666667, 4.1, 0.0, 5.0, 3.306122448979592, 4.75, 4.362745098039215, 4.188679245283019, 4.236363636363636, 3.0, 3.3777777777777778, 3.9473684210526314, 3.975609756097561, 1.0, 2.858156028368794, 2.9, 2.0, 3.963636363636364, 4.1875, 3.380952380952381, 3.404255319148936, 4.0, 2.4444444444444446, 4.0, 1.5714285714285714, 5.0, 4.9, 3.8461538461538463, 0.5, 3.445945945945946, 3.704225352112676, 4.478260869565218, 3.1549295774647885, 4.0, 4.8, 0.0, 3.992481203007519, 4.2894736842105265, 4.390243902439025, 4.433333333333334, 4.285714285714286, 3.9285714285714284, 4.05, 1.0], \"y\": [16, 14, 161, 54, 20, 1, 21, 5, 104, 10, 66, 562, 78, 52, 110, 31, 31, 16, 47, 32, 275, 72, 19, 3, 40, 95, 11, 10, 20, 1, 17, 16, 24, 11, 71, 83, 46, 152, 70, 11, 11, 10, 37, 19, 76, 67, 136, 61, 78, 3, 15, 64, 22, 185, 21, 121, 121, 335, 4, 44, 55, 38, 317, 40, 17, 26, 10, 12, 4, 2, 2, 12, 11, 22, 11, 14, 1, 1, 1, 66, 3, 47, 94, 84, 67, 23, 37, 64, 11, 24, 11, 95, 65, 9, 133, 85, 72, 53, 10, 10, 53, 158, 13, 1, 1, 1, 56, 192, 20, 84, 73, 60, 22, 73, 60, 52, 126, 63, 47, 326, 60, 10, 21, 3, 61, 10, 59, 40, 80, 54, 85, 87, 147, 1, 10, 68, 1, 68, 70, 28, 11, 10, 12, 63, 1, 51, 24, 102, 55, 5, 17, 34, 57, 53, 31, 70, 6, 28, 69, 19, 1, 60, 54, 115, 80, 111, 1, 9, 74, 137, 11, 45, 227, 276, 35, 200, 75, 22, 76, 57, 77, 22, 32, 14, 10, 35, 37, 11, 58, 165, 10, 1, 13, 64, 3, 63, 74, 75, 93, 65, 71, 2, 28, 66, 83, 3, 27, 63, 84, 32, 19, 46, 57, 1, 11, 57, 73, 546, 3, 71, 12, 7, 27, 1, 16, 17, 107, 4, 172, 131, 2, 160, 10, 67, 56, 10, 10, 78, 25, 1, 103, 21, 100, 122, 50, 78, 95, 38, 60, 67, 12, 23, 167, 10, 184, 301, 171, 108, 85, 54, 1, 20, 15, 63, 20, 38, 58, 40, 87, 51, 8, 76, 33, 54, 35, 77, 19, 92, 1, 114, 54, 86, 100, 42, 12, 59, 2, 10, 88, 182, 76, 70, 66, 74, 229, 10, 151, 53, 77, 153, 11, 2, 71, 13, 58, 49, 44, 20, 56, 57, 96, 40, 64, 46, 2, 62, 237, 65, 60, 37, 26, 61, 23, 10, 59, 65, 69, 58, 57, 83, 197, 51, 37, 3, 714, 81, 10, 81, 145, 95, 108, 70, 57, 35, 8, 49, 62, 2, 59, 116, 61, 1, 58, 7, 4, 50, 392, 264, 10, 11, 59, 10, 1, 1, 35, 21, 81, 56, 3, 1, 2, 3, 48, 69, 77, 156, 86, 66, 101, 69, 127, 166, 74, 8, 21, 2, 122, 97, 2, 30, 3, 21, 7, 3, 13, 18, 1, 83, 3, 15, 4, 56, 28, 13, 2, 85, 10, 54, 9, 55, 60, 2, 101, 8, 44, 74, 2, 34, 70, 7, 79, 13, 20, 10, 201, 31, 16, 10, 223, 13, 14, 65, 2, 2, 4, 17, 2, 101, 2, 80, 2, 10, 11, 103, 4, 1, 5, 289, 21, 21, 4, 22, 120, 16, 133, 59, 20, 63, 63, 91, 45, 47, 183, 75, 56, 120, 69, 57, 55, 2, 12, 68, 3, 84, 10, 3, 13, 15, 3, 56, 107, 243, 92, 1, 39, 20, 59, 88, 51, 94, 54, 24, 31, 4, 10, 1, 11, 24, 1, 4, 4, 1, 6, 35, 7, 16, 54, 13, 126, 6, 1, 75, 54, 114, 102, 10, 1, 1, 155, 30, 81, 26, 39, 28, 5, 19, 24, 31, 10, 13, 16, 69, 64, 32, 69, 64, 80, 31, 62, 2, 20, 22, 16, 37, 57, 76, 89, 18, 66, 77, 71, 46, 36, 50, 67, 88, 20, 6, 54, 84, 50, 4, 49, 1185, 11, 26, 48, 12, 24, 14, 64, 40, 27, 56, 48, 10, 12, 1, 49, 12, 102, 53, 55, 1, 180, 19, 123, 1, 141, 20, 13, 55, 32, 21, 47, 11, 9, 50, 7, 4, 50, 13, 2, 74, 71, 23, 71, 2, 10, 1, 133, 76, 41, 120, 7, 14, 20, 1]}],\n",
       "                        {\"template\": {\"data\": {\"bar\": [{\"error_x\": {\"color\": \"#2a3f5f\"}, \"error_y\": {\"color\": \"#2a3f5f\"}, \"marker\": {\"line\": {\"color\": \"#E5ECF6\", \"width\": 0.5}}, \"type\": \"bar\"}], \"barpolar\": [{\"marker\": {\"line\": {\"color\": \"#E5ECF6\", \"width\": 0.5}}, \"type\": \"barpolar\"}], \"carpet\": [{\"aaxis\": {\"endlinecolor\": \"#2a3f5f\", \"gridcolor\": \"white\", \"linecolor\": \"white\", \"minorgridcolor\": \"white\", \"startlinecolor\": \"#2a3f5f\"}, \"baxis\": {\"endlinecolor\": \"#2a3f5f\", \"gridcolor\": \"white\", \"linecolor\": \"white\", \"minorgridcolor\": \"white\", \"startlinecolor\": \"#2a3f5f\"}, \"type\": \"carpet\"}], \"choropleth\": [{\"colorbar\": {\"outlinewidth\": 0, \"ticks\": \"\"}, \"type\": \"choropleth\"}], \"contour\": [{\"colorbar\": {\"outlinewidth\": 0, \"ticks\": \"\"}, \"colorscale\": [[0.0, \"#0d0887\"], [0.1111111111111111, \"#46039f\"], [0.2222222222222222, \"#7201a8\"], [0.3333333333333333, \"#9c179e\"], [0.4444444444444444, \"#bd3786\"], [0.5555555555555556, \"#d8576b\"], [0.6666666666666666, \"#ed7953\"], [0.7777777777777778, \"#fb9f3a\"], [0.8888888888888888, \"#fdca26\"], [1.0, \"#f0f921\"]], \"type\": \"contour\"}], \"contourcarpet\": [{\"colorbar\": {\"outlinewidth\": 0, \"ticks\": \"\"}, \"type\": \"contourcarpet\"}], \"heatmap\": [{\"colorbar\": {\"outlinewidth\": 0, \"ticks\": \"\"}, \"colorscale\": [[0.0, \"#0d0887\"], [0.1111111111111111, \"#46039f\"], [0.2222222222222222, \"#7201a8\"], [0.3333333333333333, \"#9c179e\"], [0.4444444444444444, \"#bd3786\"], [0.5555555555555556, \"#d8576b\"], [0.6666666666666666, \"#ed7953\"], [0.7777777777777778, \"#fb9f3a\"], [0.8888888888888888, \"#fdca26\"], [1.0, \"#f0f921\"]], \"type\": \"heatmap\"}], \"heatmapgl\": [{\"colorbar\": {\"outlinewidth\": 0, \"ticks\": \"\"}, \"colorscale\": [[0.0, \"#0d0887\"], [0.1111111111111111, \"#46039f\"], [0.2222222222222222, \"#7201a8\"], [0.3333333333333333, \"#9c179e\"], [0.4444444444444444, \"#bd3786\"], [0.5555555555555556, \"#d8576b\"], [0.6666666666666666, \"#ed7953\"], [0.7777777777777778, \"#fb9f3a\"], [0.8888888888888888, \"#fdca26\"], [1.0, \"#f0f921\"]], \"type\": \"heatmapgl\"}], \"histogram\": [{\"marker\": {\"colorbar\": {\"outlinewidth\": 0, \"ticks\": \"\"}}, \"type\": \"histogram\"}], \"histogram2d\": [{\"colorbar\": {\"outlinewidth\": 0, \"ticks\": \"\"}, \"colorscale\": [[0.0, \"#0d0887\"], [0.1111111111111111, \"#46039f\"], [0.2222222222222222, \"#7201a8\"], [0.3333333333333333, \"#9c179e\"], [0.4444444444444444, \"#bd3786\"], [0.5555555555555556, \"#d8576b\"], [0.6666666666666666, \"#ed7953\"], [0.7777777777777778, \"#fb9f3a\"], [0.8888888888888888, \"#fdca26\"], [1.0, \"#f0f921\"]], \"type\": \"histogram2d\"}], \"histogram2dcontour\": [{\"colorbar\": {\"outlinewidth\": 0, \"ticks\": \"\"}, \"colorscale\": [[0.0, \"#0d0887\"], [0.1111111111111111, \"#46039f\"], [0.2222222222222222, \"#7201a8\"], [0.3333333333333333, \"#9c179e\"], [0.4444444444444444, \"#bd3786\"], [0.5555555555555556, \"#d8576b\"], [0.6666666666666666, \"#ed7953\"], [0.7777777777777778, \"#fb9f3a\"], [0.8888888888888888, \"#fdca26\"], [1.0, \"#f0f921\"]], \"type\": \"histogram2dcontour\"}], \"mesh3d\": [{\"colorbar\": {\"outlinewidth\": 0, \"ticks\": \"\"}, \"type\": \"mesh3d\"}], \"parcoords\": [{\"line\": {\"colorbar\": {\"outlinewidth\": 0, \"ticks\": \"\"}}, \"type\": \"parcoords\"}], \"pie\": [{\"automargin\": true, \"type\": \"pie\"}], \"scatter\": [{\"marker\": {\"colorbar\": {\"outlinewidth\": 0, \"ticks\": \"\"}}, \"type\": \"scatter\"}], \"scatter3d\": [{\"line\": {\"colorbar\": {\"outlinewidth\": 0, \"ticks\": \"\"}}, \"marker\": {\"colorbar\": {\"outlinewidth\": 0, \"ticks\": \"\"}}, \"type\": \"scatter3d\"}], \"scattercarpet\": [{\"marker\": {\"colorbar\": {\"outlinewidth\": 0, \"ticks\": \"\"}}, \"type\": \"scattercarpet\"}], \"scattergeo\": [{\"marker\": {\"colorbar\": {\"outlinewidth\": 0, \"ticks\": \"\"}}, \"type\": \"scattergeo\"}], \"scattergl\": [{\"marker\": {\"colorbar\": {\"outlinewidth\": 0, \"ticks\": \"\"}}, \"type\": \"scattergl\"}], \"scattermapbox\": [{\"marker\": {\"colorbar\": {\"outlinewidth\": 0, \"ticks\": \"\"}}, \"type\": \"scattermapbox\"}], \"scatterpolar\": [{\"marker\": {\"colorbar\": {\"outlinewidth\": 0, \"ticks\": \"\"}}, \"type\": \"scatterpolar\"}], \"scatterpolargl\": [{\"marker\": {\"colorbar\": {\"outlinewidth\": 0, \"ticks\": \"\"}}, \"type\": \"scatterpolargl\"}], \"scatterternary\": [{\"marker\": {\"colorbar\": {\"outlinewidth\": 0, \"ticks\": \"\"}}, \"type\": \"scatterternary\"}], \"surface\": [{\"colorbar\": {\"outlinewidth\": 0, \"ticks\": \"\"}, \"colorscale\": [[0.0, \"#0d0887\"], [0.1111111111111111, \"#46039f\"], [0.2222222222222222, \"#7201a8\"], [0.3333333333333333, \"#9c179e\"], [0.4444444444444444, \"#bd3786\"], [0.5555555555555556, \"#d8576b\"], [0.6666666666666666, \"#ed7953\"], [0.7777777777777778, \"#fb9f3a\"], [0.8888888888888888, \"#fdca26\"], [1.0, \"#f0f921\"]], \"type\": \"surface\"}], \"table\": [{\"cells\": {\"fill\": {\"color\": \"#EBF0F8\"}, \"line\": {\"color\": \"white\"}}, \"header\": {\"fill\": {\"color\": \"#C8D4E3\"}, \"line\": {\"color\": \"white\"}}, \"type\": \"table\"}]}, \"layout\": {\"annotationdefaults\": {\"arrowcolor\": \"#2a3f5f\", \"arrowhead\": 0, \"arrowwidth\": 1}, \"coloraxis\": {\"colorbar\": {\"outlinewidth\": 0, \"ticks\": \"\"}}, \"colorscale\": {\"diverging\": [[0, \"#8e0152\"], [0.1, \"#c51b7d\"], [0.2, \"#de77ae\"], [0.3, \"#f1b6da\"], [0.4, \"#fde0ef\"], [0.5, \"#f7f7f7\"], [0.6, \"#e6f5d0\"], [0.7, \"#b8e186\"], [0.8, \"#7fbc41\"], [0.9, \"#4d9221\"], [1, \"#276419\"]], \"sequential\": [[0.0, \"#0d0887\"], [0.1111111111111111, \"#46039f\"], [0.2222222222222222, \"#7201a8\"], [0.3333333333333333, \"#9c179e\"], [0.4444444444444444, \"#bd3786\"], [0.5555555555555556, \"#d8576b\"], [0.6666666666666666, \"#ed7953\"], [0.7777777777777778, \"#fb9f3a\"], [0.8888888888888888, \"#fdca26\"], [1.0, \"#f0f921\"]], \"sequentialminus\": [[0.0, \"#0d0887\"], [0.1111111111111111, \"#46039f\"], [0.2222222222222222, \"#7201a8\"], [0.3333333333333333, \"#9c179e\"], [0.4444444444444444, \"#bd3786\"], [0.5555555555555556, \"#d8576b\"], [0.6666666666666666, \"#ed7953\"], [0.7777777777777778, \"#fb9f3a\"], [0.8888888888888888, \"#fdca26\"], [1.0, \"#f0f921\"]]}, \"colorway\": [\"#636efa\", \"#EF553B\", \"#00cc96\", \"#ab63fa\", \"#FFA15A\", \"#19d3f3\", \"#FF6692\", \"#B6E880\", \"#FF97FF\", \"#FECB52\"], \"font\": {\"color\": \"#2a3f5f\"}, \"geo\": {\"bgcolor\": \"white\", \"lakecolor\": \"white\", \"landcolor\": \"#E5ECF6\", \"showlakes\": true, \"showland\": true, \"subunitcolor\": \"white\"}, \"hoverlabel\": {\"align\": \"left\"}, \"hovermode\": \"closest\", \"mapbox\": {\"style\": \"light\"}, \"paper_bgcolor\": \"white\", \"plot_bgcolor\": \"#E5ECF6\", \"polar\": {\"angularaxis\": {\"gridcolor\": \"white\", \"linecolor\": \"white\", \"ticks\": \"\"}, \"bgcolor\": \"#E5ECF6\", \"radialaxis\": {\"gridcolor\": \"white\", \"linecolor\": \"white\", \"ticks\": \"\"}}, \"scene\": {\"xaxis\": {\"backgroundcolor\": \"#E5ECF6\", \"gridcolor\": \"white\", \"gridwidth\": 2, \"linecolor\": \"white\", \"showbackground\": true, \"ticks\": \"\", \"zerolinecolor\": \"white\"}, \"yaxis\": {\"backgroundcolor\": \"#E5ECF6\", \"gridcolor\": \"white\", \"gridwidth\": 2, \"linecolor\": \"white\", \"showbackground\": true, \"ticks\": \"\", \"zerolinecolor\": \"white\"}, \"zaxis\": {\"backgroundcolor\": \"#E5ECF6\", \"gridcolor\": \"white\", \"gridwidth\": 2, \"linecolor\": \"white\", \"showbackground\": true, \"ticks\": \"\", \"zerolinecolor\": \"white\"}}, \"shapedefaults\": {\"line\": {\"color\": \"#2a3f5f\"}}, \"ternary\": {\"aaxis\": {\"gridcolor\": \"white\", \"linecolor\": \"white\", \"ticks\": \"\"}, \"baxis\": {\"gridcolor\": \"white\", \"linecolor\": \"white\", \"ticks\": \"\"}, \"bgcolor\": \"#E5ECF6\", \"caxis\": {\"gridcolor\": \"white\", \"linecolor\": \"white\", \"ticks\": \"\"}}, \"title\": {\"x\": 0.05}, \"xaxis\": {\"automargin\": true, \"gridcolor\": \"white\", \"linecolor\": \"white\", \"ticks\": \"\", \"title\": {\"standoff\": 15}, \"zerolinecolor\": \"white\", \"zerolinewidth\": 2}, \"yaxis\": {\"automargin\": true, \"gridcolor\": \"white\", \"linecolor\": \"white\", \"ticks\": \"\", \"title\": {\"standoff\": 15}, \"zerolinecolor\": \"white\", \"zerolinewidth\": 2}}}, \"title\": {\"text\": \"Diagram Showing The Relationship Between Ratings & Number Of Reviews.\"}},\n",
       "                        {\"responsive\": true}\n",
       "                    ).then(function(){\n",
       "                            \n",
       "var gd = document.getElementById('be335b97-a9c1-4dc3-bf04-d27582ab25d2');\n",
       "var x = new MutationObserver(function (mutations, observer) {{\n",
       "        var display = window.getComputedStyle(gd).display;\n",
       "        if (!display || display === 'none') {{\n",
       "            console.log([gd, 'removed!']);\n",
       "            Plotly.purge(gd);\n",
       "            observer.disconnect();\n",
       "        }}\n",
       "}});\n",
       "\n",
       "// Listen for the removal of the full notebook cells\n",
       "var notebookContainer = gd.closest('#notebook-container');\n",
       "if (notebookContainer) {{\n",
       "    x.observe(notebookContainer, {childList: true});\n",
       "}}\n",
       "\n",
       "// Listen for the clearing of the current output cell\n",
       "var outputEl = gd.closest('.output');\n",
       "if (outputEl) {{\n",
       "    x.observe(outputEl, {childList: true});\n",
       "}}\n",
       "\n",
       "                        })\n",
       "                };\n",
       "                });\n",
       "            </script>\n",
       "        </div>"
      ]
     },
     "metadata": {},
     "output_type": "display_data"
    },
    {
     "name": "stdout",
     "output_type": "stream",
     "text": [
      "Answer: Based on the above scatter plot diagram, there is no relationship between the average rating of an hotel and the total number of reviews of the hotel.\n"
     ]
    }
   ],
   "source": [
    "# Q4. What is the relationship between total number of reviews per hotel and average rating of the hotel.\n",
    "group_name = df.groupby(['name'])['rating'].mean().reset_index()\n",
    "\n",
    "group_count = df.groupby('name').count().reset_index()\n",
    "old_names = ['latitude'] \n",
    "new_names = ['count']\n",
    "group_count.rename(columns=dict(zip(old_names, new_names)), inplace=True)\n",
    "group_count = group_count[['name', 'count']] \n",
    "\n",
    "q4 = pd.merge(group_name, group_count, left_index=True, right_index=True)[['name_x', 'rating', 'count']] \n",
    "\n",
    "# q4.plot.scatter(x='rating', y='count')\n",
    "\n",
    "x = (q4['rating']).values\n",
    "y = (q4['count']).values\n",
    "\n",
    "data = go.Data([\n",
    "    go.Scatter(\n",
    "        x = x,\n",
    "        y = y,\n",
    "        mode = 'markers'\n",
    "    )\n",
    "])\n",
    "\n",
    "layout = go.Layout(\n",
    "    title='Diagram Showing The Relationship Between Ratings & Number Of Reviews.',\n",
    ")\n",
    "\n",
    "fig = dict(data=data, layout=layout)\n",
    "\n",
    "# Plot and embed in ipython notebook!\n",
    "py.iplot(fig, filename='hotels-reviews-scatter')\n",
    "\n",
    "print(\"Answer: Based on the above scatter plot diagram, there is no relationship between the average rating of an hotel and the total number of reviews of the hotel.\")"
   ]
  },
  {
   "cell_type": "code",
   "execution_count": 12,
   "metadata": {
    "_uuid": "1673ba8cda9d284d6099fb20766cf5517c744327"
   },
   "outputs": [
    {
     "ename": "ValueError",
     "evalue": "\n    Invalid value of type 'builtins.str' received for the 'hoverinfo' property of scattermapbox\n        Received value: ''\n\n    The 'hoverinfo' property is a flaglist and may be specified\n    as a string containing:\n      - Any combination of ['lon', 'lat', 'text', 'name'] joined with '+' characters\n        (e.g. 'lon+lat')\n        OR exactly one of ['all', 'none', 'skip'] (e.g. 'skip')\n      - A list or array of the above",
     "output_type": "error",
     "traceback": [
      "\u001b[1;31m---------------------------------------------------------------------------\u001b[0m",
      "\u001b[1;31mValueError\u001b[0m                                Traceback (most recent call last)",
      "\u001b[1;32m<ipython-input-12-c3ec5368a696>\u001b[0m in \u001b[0;36m<module>\u001b[1;34m\u001b[0m\n\u001b[0;32m     18\u001b[0m         ),\n\u001b[0;32m     19\u001b[0m         \u001b[0mtext\u001b[0m\u001b[1;33m=\u001b[0m\u001b[0mrating\u001b[0m\u001b[1;33m,\u001b[0m\u001b[1;33m\u001b[0m\u001b[1;33m\u001b[0m\u001b[0m\n\u001b[1;32m---> 20\u001b[1;33m         \u001b[0mhoverinfo\u001b[0m\u001b[1;33m=\u001b[0m\u001b[1;34m''\u001b[0m\u001b[1;33m\u001b[0m\u001b[1;33m\u001b[0m\u001b[0m\n\u001b[0m\u001b[0;32m     21\u001b[0m     ),\n\u001b[0;32m     22\u001b[0m     go.Scattermapbox(\n",
      "\u001b[1;32mC:\\ProgramData\\Anaconda3\\lib\\site-packages\\plotly\\graph_objs\\__init__.py\u001b[0m in \u001b[0;36m__init__\u001b[1;34m(self, arg, below, connectgaps, customdata, customdatasrc, fill, fillcolor, hoverinfo, hoverinfosrc, hoverlabel, hovertemplate, hovertemplatesrc, hovertext, hovertextsrc, ids, idssrc, lat, latsrc, legendgroup, line, lon, lonsrc, marker, meta, metasrc, mode, name, opacity, selected, selectedpoints, showlegend, stream, subplot, text, textfont, textposition, textsrc, texttemplate, texttemplatesrc, uid, uirevision, unselected, visible, **kwargs)\u001b[0m\n\u001b[0;32m  25969\u001b[0m         \u001b[0mself\u001b[0m\u001b[1;33m[\u001b[0m\u001b[1;34m\"fillcolor\"\u001b[0m\u001b[1;33m]\u001b[0m \u001b[1;33m=\u001b[0m \u001b[0mfillcolor\u001b[0m \u001b[1;32mif\u001b[0m \u001b[0mfillcolor\u001b[0m \u001b[1;32mis\u001b[0m \u001b[1;32mnot\u001b[0m \u001b[1;32mNone\u001b[0m \u001b[1;32melse\u001b[0m \u001b[0m_v\u001b[0m\u001b[1;33m\u001b[0m\u001b[1;33m\u001b[0m\u001b[0m\n\u001b[0;32m  25970\u001b[0m         \u001b[0m_v\u001b[0m \u001b[1;33m=\u001b[0m \u001b[0marg\u001b[0m\u001b[1;33m.\u001b[0m\u001b[0mpop\u001b[0m\u001b[1;33m(\u001b[0m\u001b[1;34m\"hoverinfo\"\u001b[0m\u001b[1;33m,\u001b[0m \u001b[1;32mNone\u001b[0m\u001b[1;33m)\u001b[0m\u001b[1;33m\u001b[0m\u001b[1;33m\u001b[0m\u001b[0m\n\u001b[1;32m> 25971\u001b[1;33m         \u001b[0mself\u001b[0m\u001b[1;33m[\u001b[0m\u001b[1;34m\"hoverinfo\"\u001b[0m\u001b[1;33m]\u001b[0m \u001b[1;33m=\u001b[0m \u001b[0mhoverinfo\u001b[0m \u001b[1;32mif\u001b[0m \u001b[0mhoverinfo\u001b[0m \u001b[1;32mis\u001b[0m \u001b[1;32mnot\u001b[0m \u001b[1;32mNone\u001b[0m \u001b[1;32melse\u001b[0m \u001b[0m_v\u001b[0m\u001b[1;33m\u001b[0m\u001b[1;33m\u001b[0m\u001b[0m\n\u001b[0m\u001b[0;32m  25972\u001b[0m         \u001b[0m_v\u001b[0m \u001b[1;33m=\u001b[0m \u001b[0marg\u001b[0m\u001b[1;33m.\u001b[0m\u001b[0mpop\u001b[0m\u001b[1;33m(\u001b[0m\u001b[1;34m\"hoverinfosrc\"\u001b[0m\u001b[1;33m,\u001b[0m \u001b[1;32mNone\u001b[0m\u001b[1;33m)\u001b[0m\u001b[1;33m\u001b[0m\u001b[1;33m\u001b[0m\u001b[0m\n\u001b[0;32m  25973\u001b[0m         \u001b[0mself\u001b[0m\u001b[1;33m[\u001b[0m\u001b[1;34m\"hoverinfosrc\"\u001b[0m\u001b[1;33m]\u001b[0m \u001b[1;33m=\u001b[0m \u001b[0mhoverinfosrc\u001b[0m \u001b[1;32mif\u001b[0m \u001b[0mhoverinfosrc\u001b[0m \u001b[1;32mis\u001b[0m \u001b[1;32mnot\u001b[0m \u001b[1;32mNone\u001b[0m \u001b[1;32melse\u001b[0m \u001b[0m_v\u001b[0m\u001b[1;33m\u001b[0m\u001b[1;33m\u001b[0m\u001b[0m\n",
      "\u001b[1;32mC:\\ProgramData\\Anaconda3\\lib\\site-packages\\plotly\\basedatatypes.py\u001b[0m in \u001b[0;36m__setitem__\u001b[1;34m(self, prop, value)\u001b[0m\n\u001b[0;32m   3488\u001b[0m             \u001b[1;31m# ### Handle simple property ###\u001b[0m\u001b[1;33m\u001b[0m\u001b[1;33m\u001b[0m\u001b[1;33m\u001b[0m\u001b[0m\n\u001b[0;32m   3489\u001b[0m             \u001b[1;32melse\u001b[0m\u001b[1;33m:\u001b[0m\u001b[1;33m\u001b[0m\u001b[1;33m\u001b[0m\u001b[0m\n\u001b[1;32m-> 3490\u001b[1;33m                 \u001b[0mself\u001b[0m\u001b[1;33m.\u001b[0m\u001b[0m_set_prop\u001b[0m\u001b[1;33m(\u001b[0m\u001b[0mprop\u001b[0m\u001b[1;33m,\u001b[0m \u001b[0mvalue\u001b[0m\u001b[1;33m)\u001b[0m\u001b[1;33m\u001b[0m\u001b[1;33m\u001b[0m\u001b[0m\n\u001b[0m\u001b[0;32m   3491\u001b[0m \u001b[1;33m\u001b[0m\u001b[0m\n\u001b[0;32m   3492\u001b[0m         \u001b[1;31m# Handle non-scalar case\u001b[0m\u001b[1;33m\u001b[0m\u001b[1;33m\u001b[0m\u001b[1;33m\u001b[0m\u001b[0m\n",
      "\u001b[1;32mC:\\ProgramData\\Anaconda3\\lib\\site-packages\\plotly\\basedatatypes.py\u001b[0m in \u001b[0;36m_set_prop\u001b[1;34m(self, prop, val)\u001b[0m\n\u001b[0;32m   3775\u001b[0m                 \u001b[1;32mreturn\u001b[0m\u001b[1;33m\u001b[0m\u001b[1;33m\u001b[0m\u001b[0m\n\u001b[0;32m   3776\u001b[0m             \u001b[1;32melse\u001b[0m\u001b[1;33m:\u001b[0m\u001b[1;33m\u001b[0m\u001b[1;33m\u001b[0m\u001b[0m\n\u001b[1;32m-> 3777\u001b[1;33m                 \u001b[1;32mraise\u001b[0m \u001b[0merr\u001b[0m\u001b[1;33m\u001b[0m\u001b[1;33m\u001b[0m\u001b[0m\n\u001b[0m\u001b[0;32m   3778\u001b[0m \u001b[1;33m\u001b[0m\u001b[0m\n\u001b[0;32m   3779\u001b[0m         \u001b[1;31m# val is None\u001b[0m\u001b[1;33m\u001b[0m\u001b[1;33m\u001b[0m\u001b[1;33m\u001b[0m\u001b[0m\n",
      "\u001b[1;32mC:\\ProgramData\\Anaconda3\\lib\\site-packages\\plotly\\basedatatypes.py\u001b[0m in \u001b[0;36m_set_prop\u001b[1;34m(self, prop, val)\u001b[0m\n\u001b[0;32m   3770\u001b[0m         \u001b[0mvalidator\u001b[0m \u001b[1;33m=\u001b[0m \u001b[0mself\u001b[0m\u001b[1;33m.\u001b[0m\u001b[0m_validators\u001b[0m\u001b[1;33m.\u001b[0m\u001b[0mget\u001b[0m\u001b[1;33m(\u001b[0m\u001b[0mprop\u001b[0m\u001b[1;33m)\u001b[0m\u001b[1;33m\u001b[0m\u001b[1;33m\u001b[0m\u001b[0m\n\u001b[0;32m   3771\u001b[0m         \u001b[1;32mtry\u001b[0m\u001b[1;33m:\u001b[0m\u001b[1;33m\u001b[0m\u001b[1;33m\u001b[0m\u001b[0m\n\u001b[1;32m-> 3772\u001b[1;33m             \u001b[0mval\u001b[0m \u001b[1;33m=\u001b[0m \u001b[0mvalidator\u001b[0m\u001b[1;33m.\u001b[0m\u001b[0mvalidate_coerce\u001b[0m\u001b[1;33m(\u001b[0m\u001b[0mval\u001b[0m\u001b[1;33m)\u001b[0m\u001b[1;33m\u001b[0m\u001b[1;33m\u001b[0m\u001b[0m\n\u001b[0m\u001b[0;32m   3773\u001b[0m         \u001b[1;32mexcept\u001b[0m \u001b[0mValueError\u001b[0m \u001b[1;32mas\u001b[0m \u001b[0merr\u001b[0m\u001b[1;33m:\u001b[0m\u001b[1;33m\u001b[0m\u001b[1;33m\u001b[0m\u001b[0m\n\u001b[0;32m   3774\u001b[0m             \u001b[1;32mif\u001b[0m \u001b[0mself\u001b[0m\u001b[1;33m.\u001b[0m\u001b[0m_skip_invalid\u001b[0m\u001b[1;33m:\u001b[0m\u001b[1;33m\u001b[0m\u001b[1;33m\u001b[0m\u001b[0m\n",
      "\u001b[1;32mC:\\ProgramData\\Anaconda3\\lib\\site-packages\\_plotly_utils\\basevalidators.py\u001b[0m in \u001b[0;36mvalidate_coerce\u001b[1;34m(self, v)\u001b[0m\n\u001b[0;32m   1865\u001b[0m             \u001b[0mvalidated_v\u001b[0m \u001b[1;33m=\u001b[0m \u001b[0mself\u001b[0m\u001b[1;33m.\u001b[0m\u001b[0mvc_scalar\u001b[0m\u001b[1;33m(\u001b[0m\u001b[0mv\u001b[0m\u001b[1;33m)\u001b[0m\u001b[1;33m\u001b[0m\u001b[1;33m\u001b[0m\u001b[0m\n\u001b[0;32m   1866\u001b[0m             \u001b[1;32mif\u001b[0m \u001b[0mvalidated_v\u001b[0m \u001b[1;32mis\u001b[0m \u001b[1;32mNone\u001b[0m\u001b[1;33m:\u001b[0m\u001b[1;33m\u001b[0m\u001b[1;33m\u001b[0m\u001b[0m\n\u001b[1;32m-> 1867\u001b[1;33m                 \u001b[0mself\u001b[0m\u001b[1;33m.\u001b[0m\u001b[0mraise_invalid_val\u001b[0m\u001b[1;33m(\u001b[0m\u001b[0mv\u001b[0m\u001b[1;33m)\u001b[0m\u001b[1;33m\u001b[0m\u001b[1;33m\u001b[0m\u001b[0m\n\u001b[0m\u001b[0;32m   1868\u001b[0m \u001b[1;33m\u001b[0m\u001b[0m\n\u001b[0;32m   1869\u001b[0m             \u001b[0mv\u001b[0m \u001b[1;33m=\u001b[0m \u001b[0mvalidated_v\u001b[0m\u001b[1;33m\u001b[0m\u001b[1;33m\u001b[0m\u001b[0m\n",
      "\u001b[1;32mC:\\ProgramData\\Anaconda3\\lib\\site-packages\\_plotly_utils\\basevalidators.py\u001b[0m in \u001b[0;36mraise_invalid_val\u001b[1;34m(self, v, inds)\u001b[0m\n\u001b[0;32m    281\u001b[0m                 \u001b[0mtyp\u001b[0m\u001b[1;33m=\u001b[0m\u001b[0mtype_str\u001b[0m\u001b[1;33m(\u001b[0m\u001b[0mv\u001b[0m\u001b[1;33m)\u001b[0m\u001b[1;33m,\u001b[0m\u001b[1;33m\u001b[0m\u001b[1;33m\u001b[0m\u001b[0m\n\u001b[0;32m    282\u001b[0m                 \u001b[0mv\u001b[0m\u001b[1;33m=\u001b[0m\u001b[0mrepr\u001b[0m\u001b[1;33m(\u001b[0m\u001b[0mv\u001b[0m\u001b[1;33m)\u001b[0m\u001b[1;33m,\u001b[0m\u001b[1;33m\u001b[0m\u001b[1;33m\u001b[0m\u001b[0m\n\u001b[1;32m--> 283\u001b[1;33m                 \u001b[0mvalid_clr_desc\u001b[0m\u001b[1;33m=\u001b[0m\u001b[0mself\u001b[0m\u001b[1;33m.\u001b[0m\u001b[0mdescription\u001b[0m\u001b[1;33m(\u001b[0m\u001b[1;33m)\u001b[0m\u001b[1;33m,\u001b[0m\u001b[1;33m\u001b[0m\u001b[1;33m\u001b[0m\u001b[0m\n\u001b[0m\u001b[0;32m    284\u001b[0m             )\n\u001b[0;32m    285\u001b[0m         )\n",
      "\u001b[1;31mValueError\u001b[0m: \n    Invalid value of type 'builtins.str' received for the 'hoverinfo' property of scattermapbox\n        Received value: ''\n\n    The 'hoverinfo' property is a flaglist and may be specified\n    as a string containing:\n      - Any combination of ['lon', 'lat', 'text', 'name'] joined with '+' characters\n        (e.g. 'lon+lat')\n        OR exactly one of ['all', 'none', 'skip'] (e.g. 'skip')\n      - A list or array of the above"
     ]
    }
   ],
   "source": [
    "# Q5. Plot an interactive map of the hotels and average review ratings as a label.\n",
    "q5 = df.groupby(['name', 'latitude', 'longitude'])['rating'].mean().reset_index()\n",
    "lat = q5.latitude\n",
    "lon = q5.longitude\n",
    "name = q5.name\n",
    "rating = round(q5.rating,2)\n",
    "\n",
    "mapbox_access_token = 'pk.eyJ1Ijoia2FtcGFyaWEiLCJhIjoib0JLTExtSSJ9.6ahf835RV3kBUnC3cQ-SnA'\n",
    "data = go.Data([\n",
    "    go.Scattermapbox(\n",
    "        lat=lat,\n",
    "        lon=lon,\n",
    "        mode='markers',\n",
    "        marker=go.Marker(\n",
    "            size=10,\n",
    "            color='rgb(255, 0, 0)',\n",
    "            opacity=0.7\n",
    "        ),\n",
    "        text=rating,\n",
    "        hoverinfo=''\n",
    "    ),\n",
    "    go.Scattermapbox(\n",
    "        lat=lat,\n",
    "        lon=lon,\n",
    "        mode='markers',\n",
    "        marker=go.Marker(\n",
    "            size=8,\n",
    "            color='rgb(242, 177, 172)',\n",
    "            opacity=0.7\n",
    "        ),\n",
    "        text=rating,\n",
    "        hoverinfo=''\n",
    "    )]\n",
    ")\n",
    "        \n",
    "layout = go.Layout(\n",
    "    title='Interactive Map Showing The Location Of Hotels & Average Ratings.',\n",
    "    autosize=True,\n",
    "    hovermode='closest',\n",
    "    showlegend=False,\n",
    "    mapbox=dict(\n",
    "        accesstoken=mapbox_access_token,\n",
    "        bearing=0,\n",
    "        center=dict(\n",
    "            lat=38,\n",
    "            lon=-94\n",
    "        ),\n",
    "        pitch=0,\n",
    "        zoom=3,\n",
    "        style='dark'\n",
    "    ),\n",
    ")\n",
    "\n",
    "fig = dict(data=data, layout=layout)\n",
    "\n",
    "py.iplot(fig, filename='hotel-reviews-map')"
   ]
  }
 ],
 "metadata": {
  "kernelspec": {
   "display_name": "Python 3",
   "language": "python",
   "name": "python3"
  },
  "language_info": {
   "codemirror_mode": {
    "name": "ipython",
    "version": 3
   },
   "file_extension": ".py",
   "mimetype": "text/x-python",
   "name": "python",
   "nbconvert_exporter": "python",
   "pygments_lexer": "ipython3",
   "version": "3.7.3"
  }
 },
 "nbformat": 4,
 "nbformat_minor": 1
}
